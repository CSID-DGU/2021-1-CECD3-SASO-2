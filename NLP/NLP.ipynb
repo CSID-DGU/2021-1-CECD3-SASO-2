{
  "nbformat": 4,
  "nbformat_minor": 0,
  "metadata": {
    "colab": {
      "name": "NLP.ipynb",
      "provenance": [],
      "collapsed_sections": [],
      "mount_file_id": "1Oe4-XuNmFUds3Ofl4BQn1AeQHBAzkjYG",
      "authorship_tag": "ABX9TyPbr0stjgtBwf6o4PbuEcST",
      "include_colab_link": true
    },
    "kernelspec": {
      "name": "python3",
      "display_name": "Python 3"
    },
    "language_info": {
      "name": "python"
    },
    "widgets": {
      "application/vnd.jupyter.widget-state+json": {
        "36e2906f63754b6a83b0cbe1fff24539": {
          "model_module": "@jupyter-widgets/controls",
          "model_name": "HBoxModel",
          "state": {
            "_view_name": "HBoxView",
            "_dom_classes": [],
            "_model_name": "HBoxModel",
            "_view_module": "@jupyter-widgets/controls",
            "_model_module_version": "1.5.0",
            "_view_count": null,
            "_view_module_version": "1.5.0",
            "box_style": "",
            "layout": "IPY_MODEL_e3d5e4cdb84e4a5a87f2688c34793303",
            "_model_module": "@jupyter-widgets/controls",
            "children": [
              "IPY_MODEL_3bbee183f0c44cc9b85fe84e1c556e25",
              "IPY_MODEL_ac1d14b634874ec88fd2c260b75c60c9"
            ]
          }
        },
        "e3d5e4cdb84e4a5a87f2688c34793303": {
          "model_module": "@jupyter-widgets/base",
          "model_name": "LayoutModel",
          "state": {
            "_view_name": "LayoutView",
            "grid_template_rows": null,
            "right": null,
            "justify_content": null,
            "_view_module": "@jupyter-widgets/base",
            "overflow": null,
            "_model_module_version": "1.2.0",
            "_view_count": null,
            "flex_flow": null,
            "width": null,
            "min_width": null,
            "border": null,
            "align_items": null,
            "bottom": null,
            "_model_module": "@jupyter-widgets/base",
            "top": null,
            "grid_column": null,
            "overflow_y": null,
            "overflow_x": null,
            "grid_auto_flow": null,
            "grid_area": null,
            "grid_template_columns": null,
            "flex": null,
            "_model_name": "LayoutModel",
            "justify_items": null,
            "grid_row": null,
            "max_height": null,
            "align_content": null,
            "visibility": null,
            "align_self": null,
            "height": null,
            "min_height": null,
            "padding": null,
            "grid_auto_rows": null,
            "grid_gap": null,
            "max_width": null,
            "order": null,
            "_view_module_version": "1.2.0",
            "grid_template_areas": null,
            "object_position": null,
            "object_fit": null,
            "grid_auto_columns": null,
            "margin": null,
            "display": null,
            "left": null
          }
        },
        "3bbee183f0c44cc9b85fe84e1c556e25": {
          "model_module": "@jupyter-widgets/controls",
          "model_name": "FloatProgressModel",
          "state": {
            "_view_name": "ProgressView",
            "style": "IPY_MODEL_d39c9726439e4b06b0825edba7a6106f",
            "_dom_classes": [],
            "description": "Json Data 합치기: 100%",
            "_model_name": "FloatProgressModel",
            "bar_style": "success",
            "max": 1162,
            "_view_module": "@jupyter-widgets/controls",
            "_model_module_version": "1.5.0",
            "value": 1162,
            "_view_count": null,
            "_view_module_version": "1.5.0",
            "orientation": "horizontal",
            "min": 0,
            "description_tooltip": null,
            "_model_module": "@jupyter-widgets/controls",
            "layout": "IPY_MODEL_8627b6320dfe45f9bf69beb04fc9d7ae"
          }
        },
        "ac1d14b634874ec88fd2c260b75c60c9": {
          "model_module": "@jupyter-widgets/controls",
          "model_name": "HTMLModel",
          "state": {
            "_view_name": "HTMLView",
            "style": "IPY_MODEL_b149325600ba441190dea2bb49a965b8",
            "_dom_classes": [],
            "description": "",
            "_model_name": "HTMLModel",
            "placeholder": "​",
            "_view_module": "@jupyter-widgets/controls",
            "_model_module_version": "1.5.0",
            "value": " 1162/1162 [00:11&lt;00:00, 101.08it/s]",
            "_view_count": null,
            "_view_module_version": "1.5.0",
            "description_tooltip": null,
            "_model_module": "@jupyter-widgets/controls",
            "layout": "IPY_MODEL_302a35b9f9e24d9580f50025bdd5e093"
          }
        },
        "d39c9726439e4b06b0825edba7a6106f": {
          "model_module": "@jupyter-widgets/controls",
          "model_name": "ProgressStyleModel",
          "state": {
            "_view_name": "StyleView",
            "_model_name": "ProgressStyleModel",
            "description_width": "initial",
            "_view_module": "@jupyter-widgets/base",
            "_model_module_version": "1.5.0",
            "_view_count": null,
            "_view_module_version": "1.2.0",
            "bar_color": null,
            "_model_module": "@jupyter-widgets/controls"
          }
        },
        "8627b6320dfe45f9bf69beb04fc9d7ae": {
          "model_module": "@jupyter-widgets/base",
          "model_name": "LayoutModel",
          "state": {
            "_view_name": "LayoutView",
            "grid_template_rows": null,
            "right": null,
            "justify_content": null,
            "_view_module": "@jupyter-widgets/base",
            "overflow": null,
            "_model_module_version": "1.2.0",
            "_view_count": null,
            "flex_flow": null,
            "width": null,
            "min_width": null,
            "border": null,
            "align_items": null,
            "bottom": null,
            "_model_module": "@jupyter-widgets/base",
            "top": null,
            "grid_column": null,
            "overflow_y": null,
            "overflow_x": null,
            "grid_auto_flow": null,
            "grid_area": null,
            "grid_template_columns": null,
            "flex": null,
            "_model_name": "LayoutModel",
            "justify_items": null,
            "grid_row": null,
            "max_height": null,
            "align_content": null,
            "visibility": null,
            "align_self": null,
            "height": null,
            "min_height": null,
            "padding": null,
            "grid_auto_rows": null,
            "grid_gap": null,
            "max_width": null,
            "order": null,
            "_view_module_version": "1.2.0",
            "grid_template_areas": null,
            "object_position": null,
            "object_fit": null,
            "grid_auto_columns": null,
            "margin": null,
            "display": null,
            "left": null
          }
        },
        "b149325600ba441190dea2bb49a965b8": {
          "model_module": "@jupyter-widgets/controls",
          "model_name": "DescriptionStyleModel",
          "state": {
            "_view_name": "StyleView",
            "_model_name": "DescriptionStyleModel",
            "description_width": "",
            "_view_module": "@jupyter-widgets/base",
            "_model_module_version": "1.5.0",
            "_view_count": null,
            "_view_module_version": "1.2.0",
            "_model_module": "@jupyter-widgets/controls"
          }
        },
        "302a35b9f9e24d9580f50025bdd5e093": {
          "model_module": "@jupyter-widgets/base",
          "model_name": "LayoutModel",
          "state": {
            "_view_name": "LayoutView",
            "grid_template_rows": null,
            "right": null,
            "justify_content": null,
            "_view_module": "@jupyter-widgets/base",
            "overflow": null,
            "_model_module_version": "1.2.0",
            "_view_count": null,
            "flex_flow": null,
            "width": null,
            "min_width": null,
            "border": null,
            "align_items": null,
            "bottom": null,
            "_model_module": "@jupyter-widgets/base",
            "top": null,
            "grid_column": null,
            "overflow_y": null,
            "overflow_x": null,
            "grid_auto_flow": null,
            "grid_area": null,
            "grid_template_columns": null,
            "flex": null,
            "_model_name": "LayoutModel",
            "justify_items": null,
            "grid_row": null,
            "max_height": null,
            "align_content": null,
            "visibility": null,
            "align_self": null,
            "height": null,
            "min_height": null,
            "padding": null,
            "grid_auto_rows": null,
            "grid_gap": null,
            "max_width": null,
            "order": null,
            "_view_module_version": "1.2.0",
            "grid_template_areas": null,
            "object_position": null,
            "object_fit": null,
            "grid_auto_columns": null,
            "margin": null,
            "display": null,
            "left": null
          }
        },
        "f47b3451d4e1468d890a60863172913d": {
          "model_module": "@jupyter-widgets/controls",
          "model_name": "HBoxModel",
          "state": {
            "_view_name": "HBoxView",
            "_dom_classes": [],
            "_model_name": "HBoxModel",
            "_view_module": "@jupyter-widgets/controls",
            "_model_module_version": "1.5.0",
            "_view_count": null,
            "_view_module_version": "1.5.0",
            "box_style": "",
            "layout": "IPY_MODEL_8c3843fb20484c808da1768ff9ac5baa",
            "_model_module": "@jupyter-widgets/controls",
            "children": [
              "IPY_MODEL_86b6705be068419e9208ebf2107b5feb",
              "IPY_MODEL_45891e041f084cbc9b2363ebfa572e24"
            ]
          }
        },
        "8c3843fb20484c808da1768ff9ac5baa": {
          "model_module": "@jupyter-widgets/base",
          "model_name": "LayoutModel",
          "state": {
            "_view_name": "LayoutView",
            "grid_template_rows": null,
            "right": null,
            "justify_content": null,
            "_view_module": "@jupyter-widgets/base",
            "overflow": null,
            "_model_module_version": "1.2.0",
            "_view_count": null,
            "flex_flow": null,
            "width": null,
            "min_width": null,
            "border": null,
            "align_items": null,
            "bottom": null,
            "_model_module": "@jupyter-widgets/base",
            "top": null,
            "grid_column": null,
            "overflow_y": null,
            "overflow_x": null,
            "grid_auto_flow": null,
            "grid_area": null,
            "grid_template_columns": null,
            "flex": null,
            "_model_name": "LayoutModel",
            "justify_items": null,
            "grid_row": null,
            "max_height": null,
            "align_content": null,
            "visibility": null,
            "align_self": null,
            "height": null,
            "min_height": null,
            "padding": null,
            "grid_auto_rows": null,
            "grid_gap": null,
            "max_width": null,
            "order": null,
            "_view_module_version": "1.2.0",
            "grid_template_areas": null,
            "object_position": null,
            "object_fit": null,
            "grid_auto_columns": null,
            "margin": null,
            "display": null,
            "left": null
          }
        },
        "86b6705be068419e9208ebf2107b5feb": {
          "model_module": "@jupyter-widgets/controls",
          "model_name": "FloatProgressModel",
          "state": {
            "_view_name": "ProgressView",
            "style": "IPY_MODEL_a3dad1abd3764126895a1e6ba8ccc0a2",
            "_dom_classes": [],
            "description": "Tokenize 과정: 100%",
            "_model_name": "FloatProgressModel",
            "bar_style": "success",
            "max": 112737,
            "_view_module": "@jupyter-widgets/controls",
            "_model_module_version": "1.5.0",
            "value": 112737,
            "_view_count": null,
            "_view_module_version": "1.5.0",
            "orientation": "horizontal",
            "min": 0,
            "description_tooltip": null,
            "_model_module": "@jupyter-widgets/controls",
            "layout": "IPY_MODEL_c3b7820a32fd4aa2b08bee9251e872b1"
          }
        },
        "45891e041f084cbc9b2363ebfa572e24": {
          "model_module": "@jupyter-widgets/controls",
          "model_name": "HTMLModel",
          "state": {
            "_view_name": "HTMLView",
            "style": "IPY_MODEL_428ac4435cee4e888fc2e7a6d6d7fe28",
            "_dom_classes": [],
            "description": "",
            "_model_name": "HTMLModel",
            "placeholder": "​",
            "_view_module": "@jupyter-widgets/controls",
            "_model_module_version": "1.5.0",
            "value": " 112737/112737 [00:04&lt;00:00, 27920.46it/s]",
            "_view_count": null,
            "_view_module_version": "1.5.0",
            "description_tooltip": null,
            "_model_module": "@jupyter-widgets/controls",
            "layout": "IPY_MODEL_b2cfd39540fa41e7bd9d41e161a5795d"
          }
        },
        "a3dad1abd3764126895a1e6ba8ccc0a2": {
          "model_module": "@jupyter-widgets/controls",
          "model_name": "ProgressStyleModel",
          "state": {
            "_view_name": "StyleView",
            "_model_name": "ProgressStyleModel",
            "description_width": "initial",
            "_view_module": "@jupyter-widgets/base",
            "_model_module_version": "1.5.0",
            "_view_count": null,
            "_view_module_version": "1.2.0",
            "bar_color": null,
            "_model_module": "@jupyter-widgets/controls"
          }
        },
        "c3b7820a32fd4aa2b08bee9251e872b1": {
          "model_module": "@jupyter-widgets/base",
          "model_name": "LayoutModel",
          "state": {
            "_view_name": "LayoutView",
            "grid_template_rows": null,
            "right": null,
            "justify_content": null,
            "_view_module": "@jupyter-widgets/base",
            "overflow": null,
            "_model_module_version": "1.2.0",
            "_view_count": null,
            "flex_flow": null,
            "width": null,
            "min_width": null,
            "border": null,
            "align_items": null,
            "bottom": null,
            "_model_module": "@jupyter-widgets/base",
            "top": null,
            "grid_column": null,
            "overflow_y": null,
            "overflow_x": null,
            "grid_auto_flow": null,
            "grid_area": null,
            "grid_template_columns": null,
            "flex": null,
            "_model_name": "LayoutModel",
            "justify_items": null,
            "grid_row": null,
            "max_height": null,
            "align_content": null,
            "visibility": null,
            "align_self": null,
            "height": null,
            "min_height": null,
            "padding": null,
            "grid_auto_rows": null,
            "grid_gap": null,
            "max_width": null,
            "order": null,
            "_view_module_version": "1.2.0",
            "grid_template_areas": null,
            "object_position": null,
            "object_fit": null,
            "grid_auto_columns": null,
            "margin": null,
            "display": null,
            "left": null
          }
        },
        "428ac4435cee4e888fc2e7a6d6d7fe28": {
          "model_module": "@jupyter-widgets/controls",
          "model_name": "DescriptionStyleModel",
          "state": {
            "_view_name": "StyleView",
            "_model_name": "DescriptionStyleModel",
            "description_width": "",
            "_view_module": "@jupyter-widgets/base",
            "_model_module_version": "1.5.0",
            "_view_count": null,
            "_view_module_version": "1.2.0",
            "_model_module": "@jupyter-widgets/controls"
          }
        },
        "b2cfd39540fa41e7bd9d41e161a5795d": {
          "model_module": "@jupyter-widgets/base",
          "model_name": "LayoutModel",
          "state": {
            "_view_name": "LayoutView",
            "grid_template_rows": null,
            "right": null,
            "justify_content": null,
            "_view_module": "@jupyter-widgets/base",
            "overflow": null,
            "_model_module_version": "1.2.0",
            "_view_count": null,
            "flex_flow": null,
            "width": null,
            "min_width": null,
            "border": null,
            "align_items": null,
            "bottom": null,
            "_model_module": "@jupyter-widgets/base",
            "top": null,
            "grid_column": null,
            "overflow_y": null,
            "overflow_x": null,
            "grid_auto_flow": null,
            "grid_area": null,
            "grid_template_columns": null,
            "flex": null,
            "_model_name": "LayoutModel",
            "justify_items": null,
            "grid_row": null,
            "max_height": null,
            "align_content": null,
            "visibility": null,
            "align_self": null,
            "height": null,
            "min_height": null,
            "padding": null,
            "grid_auto_rows": null,
            "grid_gap": null,
            "max_width": null,
            "order": null,
            "_view_module_version": "1.2.0",
            "grid_template_areas": null,
            "object_position": null,
            "object_fit": null,
            "grid_auto_columns": null,
            "margin": null,
            "display": null,
            "left": null
          }
        },
        "b989c0854ef64e3aad0238bf77e65415": {
          "model_module": "@jupyter-widgets/controls",
          "model_name": "HBoxModel",
          "state": {
            "_view_name": "HBoxView",
            "_dom_classes": [],
            "_model_name": "HBoxModel",
            "_view_module": "@jupyter-widgets/controls",
            "_model_module_version": "1.5.0",
            "_view_count": null,
            "_view_module_version": "1.5.0",
            "box_style": "",
            "layout": "IPY_MODEL_09c364bb6b30405bb5af7f45295cef09",
            "_model_module": "@jupyter-widgets/controls",
            "children": [
              "IPY_MODEL_1eb477f144c1474a937c0dc56dd88ed2",
              "IPY_MODEL_578505d4dc1a4ccb9fa33826556cc225"
            ]
          }
        },
        "09c364bb6b30405bb5af7f45295cef09": {
          "model_module": "@jupyter-widgets/base",
          "model_name": "LayoutModel",
          "state": {
            "_view_name": "LayoutView",
            "grid_template_rows": null,
            "right": null,
            "justify_content": null,
            "_view_module": "@jupyter-widgets/base",
            "overflow": null,
            "_model_module_version": "1.2.0",
            "_view_count": null,
            "flex_flow": null,
            "width": null,
            "min_width": null,
            "border": null,
            "align_items": null,
            "bottom": null,
            "_model_module": "@jupyter-widgets/base",
            "top": null,
            "grid_column": null,
            "overflow_y": null,
            "overflow_x": null,
            "grid_auto_flow": null,
            "grid_area": null,
            "grid_template_columns": null,
            "flex": null,
            "_model_name": "LayoutModel",
            "justify_items": null,
            "grid_row": null,
            "max_height": null,
            "align_content": null,
            "visibility": null,
            "align_self": null,
            "height": null,
            "min_height": null,
            "padding": null,
            "grid_auto_rows": null,
            "grid_gap": null,
            "max_width": null,
            "order": null,
            "_view_module_version": "1.2.0",
            "grid_template_areas": null,
            "object_position": null,
            "object_fit": null,
            "grid_auto_columns": null,
            "margin": null,
            "display": null,
            "left": null
          }
        },
        "1eb477f144c1474a937c0dc56dd88ed2": {
          "model_module": "@jupyter-widgets/controls",
          "model_name": "FloatProgressModel",
          "state": {
            "_view_name": "ProgressView",
            "style": "IPY_MODEL_5c2462999b144edf8aa7568f0735b153",
            "_dom_classes": [],
            "description": "100%",
            "_model_name": "FloatProgressModel",
            "bar_style": "success",
            "max": 112737,
            "_view_module": "@jupyter-widgets/controls",
            "_model_module_version": "1.5.0",
            "value": 112737,
            "_view_count": null,
            "_view_module_version": "1.5.0",
            "orientation": "horizontal",
            "min": 0,
            "description_tooltip": null,
            "_model_module": "@jupyter-widgets/controls",
            "layout": "IPY_MODEL_ac6a6285a84a4630a71383d06c92cce5"
          }
        },
        "578505d4dc1a4ccb9fa33826556cc225": {
          "model_module": "@jupyter-widgets/controls",
          "model_name": "HTMLModel",
          "state": {
            "_view_name": "HTMLView",
            "style": "IPY_MODEL_daaa93edd7f74ff4b45b1060ba03b9ab",
            "_dom_classes": [],
            "description": "",
            "_model_name": "HTMLModel",
            "placeholder": "​",
            "_view_module": "@jupyter-widgets/controls",
            "_model_module_version": "1.5.0",
            "value": " 112737/112737 [1:59:26&lt;00:00, 15.73it/s]",
            "_view_count": null,
            "_view_module_version": "1.5.0",
            "description_tooltip": null,
            "_model_module": "@jupyter-widgets/controls",
            "layout": "IPY_MODEL_d238b4ad5ab7443a98dcbd7090769d25"
          }
        },
        "5c2462999b144edf8aa7568f0735b153": {
          "model_module": "@jupyter-widgets/controls",
          "model_name": "ProgressStyleModel",
          "state": {
            "_view_name": "StyleView",
            "_model_name": "ProgressStyleModel",
            "description_width": "initial",
            "_view_module": "@jupyter-widgets/base",
            "_model_module_version": "1.5.0",
            "_view_count": null,
            "_view_module_version": "1.2.0",
            "bar_color": null,
            "_model_module": "@jupyter-widgets/controls"
          }
        },
        "ac6a6285a84a4630a71383d06c92cce5": {
          "model_module": "@jupyter-widgets/base",
          "model_name": "LayoutModel",
          "state": {
            "_view_name": "LayoutView",
            "grid_template_rows": null,
            "right": null,
            "justify_content": null,
            "_view_module": "@jupyter-widgets/base",
            "overflow": null,
            "_model_module_version": "1.2.0",
            "_view_count": null,
            "flex_flow": null,
            "width": null,
            "min_width": null,
            "border": null,
            "align_items": null,
            "bottom": null,
            "_model_module": "@jupyter-widgets/base",
            "top": null,
            "grid_column": null,
            "overflow_y": null,
            "overflow_x": null,
            "grid_auto_flow": null,
            "grid_area": null,
            "grid_template_columns": null,
            "flex": null,
            "_model_name": "LayoutModel",
            "justify_items": null,
            "grid_row": null,
            "max_height": null,
            "align_content": null,
            "visibility": null,
            "align_self": null,
            "height": null,
            "min_height": null,
            "padding": null,
            "grid_auto_rows": null,
            "grid_gap": null,
            "max_width": null,
            "order": null,
            "_view_module_version": "1.2.0",
            "grid_template_areas": null,
            "object_position": null,
            "object_fit": null,
            "grid_auto_columns": null,
            "margin": null,
            "display": null,
            "left": null
          }
        },
        "daaa93edd7f74ff4b45b1060ba03b9ab": {
          "model_module": "@jupyter-widgets/controls",
          "model_name": "DescriptionStyleModel",
          "state": {
            "_view_name": "StyleView",
            "_model_name": "DescriptionStyleModel",
            "description_width": "",
            "_view_module": "@jupyter-widgets/base",
            "_model_module_version": "1.5.0",
            "_view_count": null,
            "_view_module_version": "1.2.0",
            "_model_module": "@jupyter-widgets/controls"
          }
        },
        "d238b4ad5ab7443a98dcbd7090769d25": {
          "model_module": "@jupyter-widgets/base",
          "model_name": "LayoutModel",
          "state": {
            "_view_name": "LayoutView",
            "grid_template_rows": null,
            "right": null,
            "justify_content": null,
            "_view_module": "@jupyter-widgets/base",
            "overflow": null,
            "_model_module_version": "1.2.0",
            "_view_count": null,
            "flex_flow": null,
            "width": null,
            "min_width": null,
            "border": null,
            "align_items": null,
            "bottom": null,
            "_model_module": "@jupyter-widgets/base",
            "top": null,
            "grid_column": null,
            "overflow_y": null,
            "overflow_x": null,
            "grid_auto_flow": null,
            "grid_area": null,
            "grid_template_columns": null,
            "flex": null,
            "_model_name": "LayoutModel",
            "justify_items": null,
            "grid_row": null,
            "max_height": null,
            "align_content": null,
            "visibility": null,
            "align_self": null,
            "height": null,
            "min_height": null,
            "padding": null,
            "grid_auto_rows": null,
            "grid_gap": null,
            "max_width": null,
            "order": null,
            "_view_module_version": "1.2.0",
            "grid_template_areas": null,
            "object_position": null,
            "object_fit": null,
            "grid_auto_columns": null,
            "margin": null,
            "display": null,
            "left": null
          }
        }
      }
    }
  },
  "cells": [
    {
      "cell_type": "markdown",
      "metadata": {
        "id": "view-in-github",
        "colab_type": "text"
      },
      "source": [
        "<a href=\"https://colab.research.google.com/github/CSID-DGU/2021-1-CECD3-SASO-2/blob/master/NLP/NLP.ipynb\" target=\"_parent\"><img src=\"https://colab.research.google.com/assets/colab-badge.svg\" alt=\"Open In Colab\"/></a>"
      ]
    },
    {
      "cell_type": "markdown",
      "metadata": {
        "id": "L5moQP_33u6T"
      },
      "source": [
        "NLP 분석"
      ]
    },
    {
      "cell_type": "markdown",
      "metadata": {
        "id": "PbD_9axB4eP6"
      },
      "source": [
        "0. Colab에 라이브러리 설치"
      ]
    },
    {
      "cell_type": "code",
      "metadata": {
        "colab": {
          "base_uri": "https://localhost:8080/"
        },
        "id": "7OElEmYv4Rxp",
        "outputId": "db42d2f5-f63d-40af-ced7-c48de3f2f91c"
      },
      "source": [
        "# !pip install pykospacing\n",
        "!pip install konlpy\n",
        "\n",
        "\n",
        "\n",
        "# #Google drive \n",
        "from google.colab import drive\n",
        "drive.mount('/content/drive')\n",
        "\n",
        "# #한글 폰트 \n",
        "!apt -qq -y install fonts-nanum > /dev/null\n",
        " \n",
        "import matplotlib.pyplot as plt\n",
        "import matplotlib.font_manager as fm\n",
        " \n",
        "fontpath = '/usr/share/fonts/truetype/nanum/NanumBarunGothic.ttf'\n",
        "font = fm.FontProperties(fname=fontpath, size=10)\n",
        "fm._rebuild()\n",
        " \n",
        "# 그래프에 retina display 적용\n",
        "%config InlineBackend.figure_format = 'retina'\n",
        " \n",
        "# Colab 의 한글 폰트 설정\n",
        "plt.rc('font', family='NanumBarunGothic') "
      ],
      "execution_count": 1,
      "outputs": [
        {
          "output_type": "stream",
          "text": [
            "Requirement already satisfied: konlpy in /usr/local/lib/python3.7/dist-packages (0.5.2)\n",
            "Requirement already satisfied: lxml>=4.1.0 in /usr/local/lib/python3.7/dist-packages (from konlpy) (4.2.6)\n",
            "Requirement already satisfied: numpy>=1.6 in /usr/local/lib/python3.7/dist-packages (from konlpy) (1.19.5)\n",
            "Requirement already satisfied: tweepy>=3.7.0 in /usr/local/lib/python3.7/dist-packages (from konlpy) (3.10.0)\n",
            "Requirement already satisfied: JPype1>=0.7.0 in /usr/local/lib/python3.7/dist-packages (from konlpy) (1.2.1)\n",
            "Requirement already satisfied: beautifulsoup4==4.6.0 in /usr/local/lib/python3.7/dist-packages (from konlpy) (4.6.0)\n",
            "Requirement already satisfied: colorama in /usr/local/lib/python3.7/dist-packages (from konlpy) (0.4.4)\n",
            "Requirement already satisfied: requests-oauthlib>=0.7.0 in /usr/local/lib/python3.7/dist-packages (from tweepy>=3.7.0->konlpy) (1.3.0)\n",
            "Requirement already satisfied: six>=1.10.0 in /usr/local/lib/python3.7/dist-packages (from tweepy>=3.7.0->konlpy) (1.15.0)\n",
            "Requirement already satisfied: requests[socks]>=2.11.1 in /usr/local/lib/python3.7/dist-packages (from tweepy>=3.7.0->konlpy) (2.23.0)\n",
            "Requirement already satisfied: typing-extensions; python_version < \"3.8\" in /usr/local/lib/python3.7/dist-packages (from JPype1>=0.7.0->konlpy) (3.7.4.3)\n",
            "Requirement already satisfied: oauthlib>=3.0.0 in /usr/local/lib/python3.7/dist-packages (from requests-oauthlib>=0.7.0->tweepy>=3.7.0->konlpy) (3.1.0)\n",
            "Requirement already satisfied: certifi>=2017.4.17 in /usr/local/lib/python3.7/dist-packages (from requests[socks]>=2.11.1->tweepy>=3.7.0->konlpy) (2020.12.5)\n",
            "Requirement already satisfied: chardet<4,>=3.0.2 in /usr/local/lib/python3.7/dist-packages (from requests[socks]>=2.11.1->tweepy>=3.7.0->konlpy) (3.0.4)\n",
            "Requirement already satisfied: idna<3,>=2.5 in /usr/local/lib/python3.7/dist-packages (from requests[socks]>=2.11.1->tweepy>=3.7.0->konlpy) (2.10)\n",
            "Requirement already satisfied: urllib3!=1.25.0,!=1.25.1,<1.26,>=1.21.1 in /usr/local/lib/python3.7/dist-packages (from requests[socks]>=2.11.1->tweepy>=3.7.0->konlpy) (1.24.3)\n",
            "Requirement already satisfied: PySocks!=1.5.7,>=1.5.6; extra == \"socks\" in /usr/local/lib/python3.7/dist-packages (from requests[socks]>=2.11.1->tweepy>=3.7.0->konlpy) (1.7.1)\n",
            "Drive already mounted at /content/drive; to attempt to forcibly remount, call drive.mount(\"/content/drive\", force_remount=True).\n",
            "\n",
            "WARNING: apt does not have a stable CLI interface. Use with caution in scripts.\n",
            "\n"
          ],
          "name": "stdout"
        }
      ]
    },
    {
      "cell_type": "markdown",
      "metadata": {
        "id": "2kT50M7A33xO"
      },
      "source": [
        "1. 라이브러리 로딩\n"
      ]
    },
    {
      "cell_type": "code",
      "metadata": {
        "id": "-1GtO4io3qty"
      },
      "source": [
        "import re\n",
        "import os\n",
        "import sys\n",
        "import pandas as pd\n",
        "import numpy as np\n",
        "import tensorflow as tf\n",
        "import json\n",
        "\n",
        "# from pykospacing import spacing\n",
        "from konlpy.tag import Kkma\n",
        "from konlpy.tag import Okt\n",
        "from tqdm.notebook import tqdm\n",
        "import matplotlib.pyplot as plt\n",
        "from matplotlib import font_manager, rc\n",
        "# import soynlp\n",
        "import nltk\n",
        "\n",
        "kkma = Kkma()\n",
        "okt = Okt()\n",
        "plt.rc('font', family='NanumBarunGothic') "
      ],
      "execution_count": 2,
      "outputs": []
    },
    {
      "cell_type": "markdown",
      "metadata": {
        "id": "Mfv5jCFiPeVF"
      },
      "source": [
        "Json 파싱작업\n"
      ]
    },
    {
      "cell_type": "code",
      "metadata": {
        "colab": {
          "base_uri": "https://localhost:8080/"
        },
        "id": "le6HDQnDPb5e",
        "outputId": "ec5e072d-b919-41d1-a755-f77e5306881b"
      },
      "source": [
        "path = '/content/drive/MyDrive/Colab Notebooks/nlp/txtTojson.txt'\n",
        "\n",
        "#txt 파일 읽어서 ->  ,] 나오면 하나의 json 형식으로 만든다.\n",
        "\n",
        "with open(path) as f:\n",
        "    contents = f.read()\n",
        "\n",
        "index = 0\n",
        "count = 0\n",
        "jsonList = []\n",
        "\n",
        "print(len(contents))\n",
        "\n",
        "while True:\n",
        "  temp = contents[index:index+2]\n",
        "  if temp == '],':\n",
        "    jsonList.append(contents[count:index+1])\n",
        "    count = index+2\n",
        "  index +=1\n",
        "\n",
        "  #break\n",
        "  if len(contents) == index +1:\n",
        "    break \n",
        "\n",
        "#jsonList 마다 json 형식으로 바꾸어서 저장 후 \n",
        "jsonListSize = len(jsonList)\n",
        "print(jsonListSize)\n",
        "\n",
        "path = '/content/train_data/'\n",
        "\n",
        "ReviewJson = []\n",
        "for i in range(jsonListSize):\n",
        "  ReviewJson.append(json.loads(jsonList[i]))\n",
        "\n",
        "  #Train Data Json 형식으로 저장\n",
        "  name = \"t\"+ str(i) + '.json'\n",
        "  with open(path + name , 'w', encoding='utf-8') as make_file:\n",
        "\n",
        "    json.dump(ReviewJson[i], make_file, indent=\"\\t\", ensure_ascii = False)"
      ],
      "execution_count": 4,
      "outputs": [
        {
          "output_type": "stream",
          "text": [
            "26723382\n",
            "1163\n"
          ],
          "name": "stdout"
        }
      ]
    },
    {
      "cell_type": "markdown",
      "metadata": {
        "id": "TP2txZgkPdzy"
      },
      "source": [
        ""
      ]
    },
    {
      "cell_type": "markdown",
      "metadata": {
        "id": "0K072aXa5Bn6"
      },
      "source": [
        "2.전처리 과정"
      ]
    },
    {
      "cell_type": "code",
      "metadata": {
        "colab": {
          "base_uri": "https://localhost:8080/",
          "height": 167,
          "referenced_widgets": [
            "36e2906f63754b6a83b0cbe1fff24539",
            "e3d5e4cdb84e4a5a87f2688c34793303",
            "3bbee183f0c44cc9b85fe84e1c556e25",
            "ac1d14b634874ec88fd2c260b75c60c9",
            "d39c9726439e4b06b0825edba7a6106f",
            "8627b6320dfe45f9bf69beb04fc9d7ae",
            "b149325600ba441190dea2bb49a965b8",
            "302a35b9f9e24d9580f50025bdd5e093",
            "f47b3451d4e1468d890a60863172913d",
            "8c3843fb20484c808da1768ff9ac5baa",
            "86b6705be068419e9208ebf2107b5feb",
            "45891e041f084cbc9b2363ebfa572e24",
            "a3dad1abd3764126895a1e6ba8ccc0a2",
            "c3b7820a32fd4aa2b08bee9251e872b1",
            "428ac4435cee4e888fc2e7a6d6d7fe28",
            "b2cfd39540fa41e7bd9d41e161a5795d",
            "b989c0854ef64e3aad0238bf77e65415",
            "09c364bb6b30405bb5af7f45295cef09",
            "1eb477f144c1474a937c0dc56dd88ed2",
            "578505d4dc1a4ccb9fa33826556cc225",
            "5c2462999b144edf8aa7568f0735b153",
            "ac6a6285a84a4630a71383d06c92cce5",
            "daaa93edd7f74ff4b45b1060ba03b9ab",
            "d238b4ad5ab7443a98dcbd7090769d25"
          ]
        },
        "id": "UJGM0Cln4BbQ",
        "outputId": "34cfee06-edfe-41a3-fc69-040f9720d836"
      },
      "source": [
        "################# 테스트 #################\n",
        "\n",
        "\n",
        "#tokenize 함수\n",
        "def tokenize(doc):\n",
        "  #형태소와 품사를 join\n",
        "  return ['/'.join(t) for t in okt.pos(doc, norm=True, stem=True)]\n",
        "\n",
        "\n",
        "\n",
        "\n",
        "# # 파일 위치\n",
        "# reviewjson_path = '/content/drive/MyDrive/Colab Notebooks/nlp/test.json'\n",
        "firstPath = '/content/train_data/t0.json'\n",
        "\n",
        "df = pd.read_json(firstPath)\n",
        "\n",
        "\n",
        "#dataFrame Concatnation\n",
        "#jsonListSize\n",
        "for i in tqdm(range(1,jsonListSize), desc=\"Json Data 합치기\"):\n",
        "  jsonPath = '/content/train_data/t' + str(i) + '.json'\n",
        "   \n",
        "  dfTemp = pd.read_json(jsonPath)\n",
        "  df = pd.concat([df,dfTemp], ignore_index=True)\n",
        "\n",
        "\n",
        "\n",
        "\n",
        "#review list 로 변환\n",
        "newData = []\n",
        "for i in tqdm(range(len(df)), desc=\"Tokenize 과정\"):\n",
        "  newData.append([df.text[i], df.avgStar[i]])\n",
        "\n",
        "#tokenize 과정\n",
        "new_docs = [(tokenize(row[0]), row[1]) for row in tqdm(newData)]\n",
        "\n",
        "\n",
        "# print(new_docs)\n",
        "\n",
        "\n",
        "################# 테스트 #################\n",
        "\n",
        "\n"
      ],
      "execution_count": 5,
      "outputs": [
        {
          "output_type": "display_data",
          "data": {
            "application/vnd.jupyter.widget-view+json": {
              "model_id": "36e2906f63754b6a83b0cbe1fff24539",
              "version_minor": 0,
              "version_major": 2
            },
            "text/plain": [
              "HBox(children=(FloatProgress(value=0.0, description='Json Data 합치기', max=1162.0, style=ProgressStyle(descripti…"
            ]
          },
          "metadata": {
            "tags": []
          }
        },
        {
          "output_type": "stream",
          "text": [
            "\n"
          ],
          "name": "stdout"
        },
        {
          "output_type": "display_data",
          "data": {
            "application/vnd.jupyter.widget-view+json": {
              "model_id": "f47b3451d4e1468d890a60863172913d",
              "version_minor": 0,
              "version_major": 2
            },
            "text/plain": [
              "HBox(children=(FloatProgress(value=0.0, description='Tokenize 과정', max=112737.0, style=ProgressStyle(descripti…"
            ]
          },
          "metadata": {
            "tags": []
          }
        },
        {
          "output_type": "stream",
          "text": [
            "\n"
          ],
          "name": "stdout"
        },
        {
          "output_type": "display_data",
          "data": {
            "application/vnd.jupyter.widget-view+json": {
              "model_id": "b989c0854ef64e3aad0238bf77e65415",
              "version_minor": 0,
              "version_major": 2
            },
            "text/plain": [
              "HBox(children=(FloatProgress(value=0.0, max=112737.0), HTML(value='')))"
            ]
          },
          "metadata": {
            "tags": []
          }
        },
        {
          "output_type": "stream",
          "text": [
            "\n"
          ],
          "name": "stdout"
        }
      ]
    },
    {
      "cell_type": "code",
      "metadata": {
        "id": "eB_eY1idF4ft"
      },
      "source": [
        "#new_docs 저장\n",
        "\n",
        "df = pd.DataFrame(new_docs) \n",
        "    \n",
        "# saving the dataframe \n",
        "df.to_csv('new_docs_dataFrame.csv', encoding='utf-8-sig')  "
      ],
      "execution_count": 11,
      "outputs": []
    },
    {
      "cell_type": "code",
      "metadata": {
        "colab": {
          "base_uri": "https://localhost:8080/",
          "height": 772
        },
        "id": "_JYy7EgZ5S1Y",
        "outputId": "08ab478c-ddb8-489d-af86-2a1c6f1fba2f"
      },
      "source": [
        "#토큰 구하기\n",
        "tokens = [t for d in new_docs for t in d[0]]\n",
        "print(\"토큰개수:\", len(tokens))\n",
        "# print(t okens)\n",
        "\n",
        "#nltk 를 통한 전처리\n",
        "text = nltk.Text(tokens, name='NMSC')\n",
        "\n",
        "#토큰개수\n",
        "print(len(text.tokens))\n",
        "\n",
        "#중복을 제외한 토큰개수\n",
        "print(len(set(text.tokens)))\n",
        "\n",
        "#출력빈도가 높은 상위 토큰 10개\n",
        "print(text.vocab().most_common(20))\n",
        "\n",
        "#명사 출력\n",
        "# noun = []\n",
        "# noun = [t for d in new_docs for t in d[0] if 'Noun' in t]\n",
        "\n",
        "# test = nltk.Text(noun, name='NMSC')\n",
        "# print(len(set(test.tokens)))\n",
        "# print(test.vocab().most_common(20))\n",
        "\n",
        "\n",
        "# print(noun)\n",
        "\n",
        "\n",
        "\n",
        "\n",
        "#상위 토큰 10개 matpolib 으로 출력\n",
        "plt.figure(figsize=(20,10))\n",
        "text.plot(50)\n"
      ],
      "execution_count": 7,
      "outputs": [
        {
          "output_type": "stream",
          "text": [
            "토큰개수: 8984738\n",
            "8984738\n",
            "16091\n",
            "[('하다/Verb', 370815), ('./Punctuation', 210562), ('이/Josa', 192197), ('\\r\\n/Foreign', 186523), ('상담/Noun', 156802), ('수술/Noun', 125101), ('은/Josa', 125099), ('도/Josa', 123157), ('에/Josa', 120969), ('님/Suffix', 112154), ('가/Josa', 98716), ('을/Josa', 91000), ('원장/Noun', 83175), ('해주다/Verb', 76455), ('받다/Verb', 74629), ('는/Josa', 72907), ('병원/Noun', 69055), ('같다/Adjective', 68508), ('있다/Adjective', 67602), ('가다/Verb', 54300)]\n"
          ],
          "name": "stdout"
        },
        {
          "output_type": "display_data",
          "data": {
            "image/png": "[encoded data removed]",
            "text/plain": [
              "<Figure size 1440x720 with 1 Axes>"
            ]
          },
          "metadata": {
            "tags": [],
            "image/png": {
              "width": 1187,
              "height": 663
            },
            "needs_background": "light"
          }
        }
      ]
    },
    {
      "cell_type": "code",
      "metadata": {
        "id": "EaUVCGmS-nIN",
        "colab": {
          "base_uri": "https://localhost:8080/"
        },
        "outputId": "27ce97c1-2b96-4f3a-82fc-5197d920c832"
      },
      "source": [
        " \n",
        "#모델을 만들기 위해 벡터화\n",
        "#문서 집합에서 단어 토큰을 생성하고 각 단어의 수를 세어 BOW(Bag of Words) 인코딩한 벡터를 만드는 역할\n",
        "FREQUENCY_COUNT = 300;\n",
        "selected_words = [f[0] for f in text.vocab().most_common(FREQUENCY_COUNT)]\n",
        "\n",
        "#단어리스트 문서에서 상위 1000개들중 포함되는 단어들이 개수\n",
        "def term_frequency(doc):\n",
        "    return [doc.count(word) for word in selected_words]\n",
        "\n",
        "\n",
        "x_new = [term_frequency(d) for d,_ in new_docs]\n",
        "#라벨(1 or 0)\n",
        "y_new = [c/100 for _,c in new_docs]\n",
        "\n",
        "#float 형으로 형변환\n",
        "x_new = np.asarray(x_new).astype('float32')\n",
        "y_new = np.asarray(y_new).astype('float32')\n",
        "\n",
        "#레이어 구성\n",
        "model = tf.keras.models.Sequential([\n",
        "    tf.keras.layers.Dense(64, activation='relu', input_shape=(FREQUENCY_COUNT,)),\n",
        "    tf.keras.layers.Dense(64, activation='relu'),\n",
        "    tf.keras.layers.Dense(1, activation='sigmoid')\n",
        "])\n",
        "\n",
        "#학습 프로세스 설정\n",
        "model.compile(optimizer=tf.keras.optimizers.RMSprop(lr=0.001),\n",
        "    loss=tf.keras.losses.binary_crossentropy,\n",
        "    metrics=[tf.keras.metrics.binary_accuracy]\n",
        "    )\n",
        "\n",
        "#학습 데이터로 학습\n",
        "model.fit(x_new, y_new, epochs=10, batch_size=512)\n",
        "\n",
        "\n",
        "results = model.evaluate(x_new, y_new)\n",
        "\n",
        "results\n",
        "\n",
        "\n",
        "#모델을 저장해둘수도 있다.\n",
        "model.save('review_model.h5')\n",
        "\n",
        "\n"
      ],
      "execution_count": 8,
      "outputs": [
        {
          "output_type": "stream",
          "text": [
            "Epoch 1/10\n",
            "221/221 [==============================] - 2s 4ms/step - loss: 0.6058 - binary_accuracy: 0.0385\n",
            "Epoch 2/10\n",
            "221/221 [==============================] - 1s 4ms/step - loss: 0.5618 - binary_accuracy: 0.0378\n",
            "Epoch 3/10\n",
            "221/221 [==============================] - 1s 5ms/step - loss: 0.5514 - binary_accuracy: 0.0400\n",
            "Epoch 4/10\n",
            "221/221 [==============================] - 1s 4ms/step - loss: 0.5466 - binary_accuracy: 0.0399\n",
            "Epoch 5/10\n",
            "221/221 [==============================] - 1s 4ms/step - loss: 0.5429 - binary_accuracy: 0.0399\n",
            "Epoch 6/10\n",
            "221/221 [==============================] - 1s 5ms/step - loss: 0.5408 - binary_accuracy: 0.0390\n",
            "Epoch 7/10\n",
            "221/221 [==============================] - 1s 4ms/step - loss: 0.5387 - binary_accuracy: 0.0404\n",
            "Epoch 8/10\n",
            "221/221 [==============================] - 1s 4ms/step - loss: 0.5375 - binary_accuracy: 0.0398\n",
            "Epoch 9/10\n",
            "221/221 [==============================] - 1s 4ms/step - loss: 0.5371 - binary_accuracy: 0.0389\n",
            "Epoch 10/10\n",
            "221/221 [==============================] - 1s 4ms/step - loss: 0.5359 - binary_accuracy: 0.0392\n",
            "3524/3524 [==============================] - 4s 1ms/step - loss: 0.5332 - binary_accuracy: 0.0392\n"
          ],
          "name": "stdout"
        }
      ]
    },
    {
      "cell_type": "code",
      "metadata": {
        "colab": {
          "base_uri": "https://localhost:8080/"
        },
        "id": "loa7VsduTIF4",
        "outputId": "af80137e-da66-4a41-9820-b9160eb0b954"
      },
      "source": [
        "\n",
        "# 모델 불러오기\n",
        "#from keras.models import load_model\n",
        "#model = load_model('review_model.h5')\n",
        "\n",
        "\n",
        "\n",
        "def predict_review(review):\n",
        "    token = tokenize(review)\n",
        "    tfq = term_frequency(token)\n",
        "    data = np.expand_dims(np.asarray(tfq).astype('float32'), axis=0)\n",
        "    score = float(model.predict(data))\n",
        "\n",
        "    if score > 0.5:\n",
        "        print(f\"{review} ==> 긍정 ({round(score*100)}%)\")\n",
        "    else:\n",
        "        print(f\"{review} ==> 부정 ({round((1-score)*100)}%)\")\n",
        "\n",
        "\n",
        "predict_review(\"유튜브에서 보던 느낌 그대로 상담 하세요 김태규 원장님. 그러나 자신만의 확고한 철학이 잇으셔서 그런지 타 병원 상담때와 대치되는 말을 몇개 하심 제 피부탄력이나 턱모양등... 결정적으로 후기사진이 하나 같이 몽달귀신 st 턱이어서 별로엿음\")\n",
        "predict_review('안면윤곽 상담받았어요 생각보다 병원에 사람이 많아요 김태규 원장님과 상담받았고 수술비용은 다른 병원에 바해서 조금 싼거같습니다. 원장님은 전문성 있어보였고 사람이 많아서 대기시간이 갈고 오래 기다린거 외엔 괜찮았습니다.')\n",
        "predict_review('잘모르겠음 여러곳상담다녀봤는데 특별히다른거없는 그냥 완전평범한 성형외과임 근데 상담을 짧게함 대체 몇백들여서 얼굴만드는수술하는데 30분도안되는 상담받고서 어떻게하겠다는거임? 상담만받고 거른거같음 . . .')\n",
        "predict_review('이 병원 너무 별로네요 왜이리 수술이라던지 여드름 치료가 별로인지 모르겠어오 어떻게 하겠다는거에요')\n",
        "predict_review('후기보니까 눈 쪽 괜찮게 하시는 것 같아서 찾아갔어요. 상담도 친절하시고 나쁘지 않았는데 지금 수술 후 4주 차인데 붓기 빠질 기미가 안보이네요.')\n",
        "predict_review('후기보니까 눈 쪽은 괜찮게 하시는 것 같아서 찾아갔어요. 상담도 친절하시고나쁘지 않았는데 전후 피드백이나 디테일한 부분른 별로네요 지금 수술 후 4주 차인데 붓기 빠질 기미도 안보이네요.')"
      ],
      "execution_count": 12,
      "outputs": [
        {
          "output_type": "stream",
          "text": [
            "유튜브에서 보던 느낌 그대로 상담 하세요 김태규 원장님. 그러나 자신만의 확고한 철학이 잇으셔서 그런지 타 병원 상담때와 대치되는 말을 몇개 하심 제 피부탄력이나 턱모양등... 결정적으로 후기사진이 하나 같이 몽달귀신 st 턱이어서 별로엿음 ==> 긍정 (68%)\n",
            "안면윤곽 상담받았어요 생각보다 병원에 사람이 많아요 김태규 원장님과 상담받았고 수술비용은 다른 병원에 바해서 조금 싼거같습니다. 원장님은 전문성 있어보였고 사람이 많아서 대기시간이 갈고 오래 기다린거 외엔 괜찮았습니다. ==> 긍정 (68%)\n",
            "잘모르겠음 여러곳상담다녀봤는데 특별히다른거없는 그냥 완전평범한 성형외과임 근데 상담을 짧게함 대체 몇백들여서 얼굴만드는수술하는데 30분도안되는 상담받고서 어떻게하겠다는거임? 상담만받고 거른거같음 . . . ==> 부정 (50%)\n",
            "이 병원 너무 별로네요 왜이리 수술이라던지 여드름 치료가 별로인지 모르겠어오 어떻게 하겠다는거에요 ==> 부정 (79%)\n",
            "후기보니까 눈 쪽 괜찮게 하시는 것 같아서 찾아갔어요. 상담도 친절하시고 나쁘지 않았는데 지금 수술 후 4주 차인데 붓기 빠질 기미가 안보이네요. ==> 부정 (50%)\n",
            "후기보니까 눈 쪽은 괜찮게 하시는 것 같아서 찾아갔어요. 상담도 친절하시고나쁘지 않았는데 전후 피드백이나 디테일한 부분른 별로네요 지금 수술 후 4주 차인데 붓기 빠질 기미도 안보이네요. ==> 부정 (53%)\n"
          ],
          "name": "stdout"
        }
      ]
    }
  ]
}