{
  "nbformat": 4,
  "nbformat_minor": 0,
  "metadata": {
    "colab": {
      "name": "NLP.ipynb",
      "provenance": [],
      "collapsed_sections": [],
      "authorship_tag": "ABX9TyNC52d9Jg0TUJRHYSU+L8F1",
      "include_colab_link": true
    },
    "kernelspec": {
      "name": "python3",
      "display_name": "Python 3"
    },
    "language_info": {
      "name": "python"
    },
    "widgets": {
      "application/vnd.jupyter.widget-state+json": {
        "08590aa2693b470bae1a7f34ebfaf76f": {
          "model_module": "@jupyter-widgets/controls",
          "model_name": "HBoxModel",
          "state": {
            "_view_name": "HBoxView",
            "_dom_classes": [],
            "_model_name": "HBoxModel",
            "_view_module": "@jupyter-widgets/controls",
            "_model_module_version": "1.5.0",
            "_view_count": null,
            "_view_module_version": "1.5.0",
            "box_style": "",
            "layout": "IPY_MODEL_45969cca575f4b0fad3000a587d14fa7",
            "_model_module": "@jupyter-widgets/controls",
            "children": [
              "IPY_MODEL_e95f9074f408418cbef57ae5fe0f182f",
              "IPY_MODEL_21014cdeb8ae445985a05336ef36a1fe"
            ]
          }
        },
        "45969cca575f4b0fad3000a587d14fa7": {
          "model_module": "@jupyter-widgets/base",
          "model_name": "LayoutModel",
          "state": {
            "_view_name": "LayoutView",
            "grid_template_rows": null,
            "right": null,
            "justify_content": null,
            "_view_module": "@jupyter-widgets/base",
            "overflow": null,
            "_model_module_version": "1.2.0",
            "_view_count": null,
            "flex_flow": null,
            "width": null,
            "min_width": null,
            "border": null,
            "align_items": null,
            "bottom": null,
            "_model_module": "@jupyter-widgets/base",
            "top": null,
            "grid_column": null,
            "overflow_y": null,
            "overflow_x": null,
            "grid_auto_flow": null,
            "grid_area": null,
            "grid_template_columns": null,
            "flex": null,
            "_model_name": "LayoutModel",
            "justify_items": null,
            "grid_row": null,
            "max_height": null,
            "align_content": null,
            "visibility": null,
            "align_self": null,
            "height": null,
            "min_height": null,
            "padding": null,
            "grid_auto_rows": null,
            "grid_gap": null,
            "max_width": null,
            "order": null,
            "_view_module_version": "1.2.0",
            "grid_template_areas": null,
            "object_position": null,
            "object_fit": null,
            "grid_auto_columns": null,
            "margin": null,
            "display": null,
            "left": null
          }
        },
        "e95f9074f408418cbef57ae5fe0f182f": {
          "model_module": "@jupyter-widgets/controls",
          "model_name": "FloatProgressModel",
          "state": {
            "_view_name": "ProgressView",
            "style": "IPY_MODEL_281e59b688e746299d4f4bac01815c87",
            "_dom_classes": [],
            "description": "100%",
            "_model_name": "FloatProgressModel",
            "bar_style": "success",
            "max": 43,
            "_view_module": "@jupyter-widgets/controls",
            "_model_module_version": "1.5.0",
            "value": 43,
            "_view_count": null,
            "_view_module_version": "1.5.0",
            "orientation": "horizontal",
            "min": 0,
            "description_tooltip": null,
            "_model_module": "@jupyter-widgets/controls",
            "layout": "IPY_MODEL_80aee75813274a0ea938e9b4989f71ae"
          }
        },
        "21014cdeb8ae445985a05336ef36a1fe": {
          "model_module": "@jupyter-widgets/controls",
          "model_name": "HTMLModel",
          "state": {
            "_view_name": "HTMLView",
            "style": "IPY_MODEL_020950c46f4e4c41a058368eba1631b6",
            "_dom_classes": [],
            "description": "",
            "_model_name": "HTMLModel",
            "placeholder": "​",
            "_view_module": "@jupyter-widgets/controls",
            "_model_module_version": "1.5.0",
            "value": " 43/43 [00:01&lt;00:00, 29.82it/s]",
            "_view_count": null,
            "_view_module_version": "1.5.0",
            "description_tooltip": null,
            "_model_module": "@jupyter-widgets/controls",
            "layout": "IPY_MODEL_2719a5aa8609406695f8f91696994cb2"
          }
        },
        "281e59b688e746299d4f4bac01815c87": {
          "model_module": "@jupyter-widgets/controls",
          "model_name": "ProgressStyleModel",
          "state": {
            "_view_name": "StyleView",
            "_model_name": "ProgressStyleModel",
            "description_width": "initial",
            "_view_module": "@jupyter-widgets/base",
            "_model_module_version": "1.5.0",
            "_view_count": null,
            "_view_module_version": "1.2.0",
            "bar_color": null,
            "_model_module": "@jupyter-widgets/controls"
          }
        },
        "80aee75813274a0ea938e9b4989f71ae": {
          "model_module": "@jupyter-widgets/base",
          "model_name": "LayoutModel",
          "state": {
            "_view_name": "LayoutView",
            "grid_template_rows": null,
            "right": null,
            "justify_content": null,
            "_view_module": "@jupyter-widgets/base",
            "overflow": null,
            "_model_module_version": "1.2.0",
            "_view_count": null,
            "flex_flow": null,
            "width": null,
            "min_width": null,
            "border": null,
            "align_items": null,
            "bottom": null,
            "_model_module": "@jupyter-widgets/base",
            "top": null,
            "grid_column": null,
            "overflow_y": null,
            "overflow_x": null,
            "grid_auto_flow": null,
            "grid_area": null,
            "grid_template_columns": null,
            "flex": null,
            "_model_name": "LayoutModel",
            "justify_items": null,
            "grid_row": null,
            "max_height": null,
            "align_content": null,
            "visibility": null,
            "align_self": null,
            "height": null,
            "min_height": null,
            "padding": null,
            "grid_auto_rows": null,
            "grid_gap": null,
            "max_width": null,
            "order": null,
            "_view_module_version": "1.2.0",
            "grid_template_areas": null,
            "object_position": null,
            "object_fit": null,
            "grid_auto_columns": null,
            "margin": null,
            "display": null,
            "left": null
          }
        },
        "020950c46f4e4c41a058368eba1631b6": {
          "model_module": "@jupyter-widgets/controls",
          "model_name": "DescriptionStyleModel",
          "state": {
            "_view_name": "StyleView",
            "_model_name": "DescriptionStyleModel",
            "description_width": "",
            "_view_module": "@jupyter-widgets/base",
            "_model_module_version": "1.5.0",
            "_view_count": null,
            "_view_module_version": "1.2.0",
            "_model_module": "@jupyter-widgets/controls"
          }
        },
        "2719a5aa8609406695f8f91696994cb2": {
          "model_module": "@jupyter-widgets/base",
          "model_name": "LayoutModel",
          "state": {
            "_view_name": "LayoutView",
            "grid_template_rows": null,
            "right": null,
            "justify_content": null,
            "_view_module": "@jupyter-widgets/base",
            "overflow": null,
            "_model_module_version": "1.2.0",
            "_view_count": null,
            "flex_flow": null,
            "width": null,
            "min_width": null,
            "border": null,
            "align_items": null,
            "bottom": null,
            "_model_module": "@jupyter-widgets/base",
            "top": null,
            "grid_column": null,
            "overflow_y": null,
            "overflow_x": null,
            "grid_auto_flow": null,
            "grid_area": null,
            "grid_template_columns": null,
            "flex": null,
            "_model_name": "LayoutModel",
            "justify_items": null,
            "grid_row": null,
            "max_height": null,
            "align_content": null,
            "visibility": null,
            "align_self": null,
            "height": null,
            "min_height": null,
            "padding": null,
            "grid_auto_rows": null,
            "grid_gap": null,
            "max_width": null,
            "order": null,
            "_view_module_version": "1.2.0",
            "grid_template_areas": null,
            "object_position": null,
            "object_fit": null,
            "grid_auto_columns": null,
            "margin": null,
            "display": null,
            "left": null
          }
        },
        "3c9bd87c7d4845e2819415dab6ead796": {
          "model_module": "@jupyter-widgets/controls",
          "model_name": "HBoxModel",
          "state": {
            "_view_name": "HBoxView",
            "_dom_classes": [],
            "_model_name": "HBoxModel",
            "_view_module": "@jupyter-widgets/controls",
            "_model_module_version": "1.5.0",
            "_view_count": null,
            "_view_module_version": "1.5.0",
            "box_style": "",
            "layout": "IPY_MODEL_ab75c5ab37fd49959cf890003cd026b3",
            "_model_module": "@jupyter-widgets/controls",
            "children": [
              "IPY_MODEL_feb1df6201cf437988ccfb1e6c8fe0ee",
              "IPY_MODEL_6ec7c178560b44d28aa974cd2a0168e9"
            ]
          }
        },
        "ab75c5ab37fd49959cf890003cd026b3": {
          "model_module": "@jupyter-widgets/base",
          "model_name": "LayoutModel",
          "state": {
            "_view_name": "LayoutView",
            "grid_template_rows": null,
            "right": null,
            "justify_content": null,
            "_view_module": "@jupyter-widgets/base",
            "overflow": null,
            "_model_module_version": "1.2.0",
            "_view_count": null,
            "flex_flow": null,
            "width": null,
            "min_width": null,
            "border": null,
            "align_items": null,
            "bottom": null,
            "_model_module": "@jupyter-widgets/base",
            "top": null,
            "grid_column": null,
            "overflow_y": null,
            "overflow_x": null,
            "grid_auto_flow": null,
            "grid_area": null,
            "grid_template_columns": null,
            "flex": null,
            "_model_name": "LayoutModel",
            "justify_items": null,
            "grid_row": null,
            "max_height": null,
            "align_content": null,
            "visibility": null,
            "align_self": null,
            "height": null,
            "min_height": null,
            "padding": null,
            "grid_auto_rows": null,
            "grid_gap": null,
            "max_width": null,
            "order": null,
            "_view_module_version": "1.2.0",
            "grid_template_areas": null,
            "object_position": null,
            "object_fit": null,
            "grid_auto_columns": null,
            "margin": null,
            "display": null,
            "left": null
          }
        },
        "feb1df6201cf437988ccfb1e6c8fe0ee": {
          "model_module": "@jupyter-widgets/controls",
          "model_name": "FloatProgressModel",
          "state": {
            "_view_name": "ProgressView",
            "style": "IPY_MODEL_a9086033d4c54e3f88f1a2416e0b2c17",
            "_dom_classes": [],
            "description": "100%",
            "_model_name": "FloatProgressModel",
            "bar_style": "success",
            "max": 43,
            "_view_module": "@jupyter-widgets/controls",
            "_model_module_version": "1.5.0",
            "value": 43,
            "_view_count": null,
            "_view_module_version": "1.5.0",
            "orientation": "horizontal",
            "min": 0,
            "description_tooltip": null,
            "_model_module": "@jupyter-widgets/controls",
            "layout": "IPY_MODEL_9e50d6335cb748e889246295af670e5f"
          }
        },
        "6ec7c178560b44d28aa974cd2a0168e9": {
          "model_module": "@jupyter-widgets/controls",
          "model_name": "HTMLModel",
          "state": {
            "_view_name": "HTMLView",
            "style": "IPY_MODEL_f2d5e69a176a4c8fbf8b05a8bc010ee3",
            "_dom_classes": [],
            "description": "",
            "_model_name": "HTMLModel",
            "placeholder": "​",
            "_view_module": "@jupyter-widgets/controls",
            "_model_module_version": "1.5.0",
            "value": " 43/43 [00:11&lt;00:00,  3.85it/s]",
            "_view_count": null,
            "_view_module_version": "1.5.0",
            "description_tooltip": null,
            "_model_module": "@jupyter-widgets/controls",
            "layout": "IPY_MODEL_ccdaa2e40b0a4b60bb0b5a481874a48e"
          }
        },
        "a9086033d4c54e3f88f1a2416e0b2c17": {
          "model_module": "@jupyter-widgets/controls",
          "model_name": "ProgressStyleModel",
          "state": {
            "_view_name": "StyleView",
            "_model_name": "ProgressStyleModel",
            "description_width": "initial",
            "_view_module": "@jupyter-widgets/base",
            "_model_module_version": "1.5.0",
            "_view_count": null,
            "_view_module_version": "1.2.0",
            "bar_color": null,
            "_model_module": "@jupyter-widgets/controls"
          }
        },
        "9e50d6335cb748e889246295af670e5f": {
          "model_module": "@jupyter-widgets/base",
          "model_name": "LayoutModel",
          "state": {
            "_view_name": "LayoutView",
            "grid_template_rows": null,
            "right": null,
            "justify_content": null,
            "_view_module": "@jupyter-widgets/base",
            "overflow": null,
            "_model_module_version": "1.2.0",
            "_view_count": null,
            "flex_flow": null,
            "width": null,
            "min_width": null,
            "border": null,
            "align_items": null,
            "bottom": null,
            "_model_module": "@jupyter-widgets/base",
            "top": null,
            "grid_column": null,
            "overflow_y": null,
            "overflow_x": null,
            "grid_auto_flow": null,
            "grid_area": null,
            "grid_template_columns": null,
            "flex": null,
            "_model_name": "LayoutModel",
            "justify_items": null,
            "grid_row": null,
            "max_height": null,
            "align_content": null,
            "visibility": null,
            "align_self": null,
            "height": null,
            "min_height": null,
            "padding": null,
            "grid_auto_rows": null,
            "grid_gap": null,
            "max_width": null,
            "order": null,
            "_view_module_version": "1.2.0",
            "grid_template_areas": null,
            "object_position": null,
            "object_fit": null,
            "grid_auto_columns": null,
            "margin": null,
            "display": null,
            "left": null
          }
        },
        "f2d5e69a176a4c8fbf8b05a8bc010ee3": {
          "model_module": "@jupyter-widgets/controls",
          "model_name": "DescriptionStyleModel",
          "state": {
            "_view_name": "StyleView",
            "_model_name": "DescriptionStyleModel",
            "description_width": "",
            "_view_module": "@jupyter-widgets/base",
            "_model_module_version": "1.5.0",
            "_view_count": null,
            "_view_module_version": "1.2.0",
            "_model_module": "@jupyter-widgets/controls"
          }
        },
        "ccdaa2e40b0a4b60bb0b5a481874a48e": {
          "model_module": "@jupyter-widgets/base",
          "model_name": "LayoutModel",
          "state": {
            "_view_name": "LayoutView",
            "grid_template_rows": null,
            "right": null,
            "justify_content": null,
            "_view_module": "@jupyter-widgets/base",
            "overflow": null,
            "_model_module_version": "1.2.0",
            "_view_count": null,
            "flex_flow": null,
            "width": null,
            "min_width": null,
            "border": null,
            "align_items": null,
            "bottom": null,
            "_model_module": "@jupyter-widgets/base",
            "top": null,
            "grid_column": null,
            "overflow_y": null,
            "overflow_x": null,
            "grid_auto_flow": null,
            "grid_area": null,
            "grid_template_columns": null,
            "flex": null,
            "_model_name": "LayoutModel",
            "justify_items": null,
            "grid_row": null,
            "max_height": null,
            "align_content": null,
            "visibility": null,
            "align_self": null,
            "height": null,
            "min_height": null,
            "padding": null,
            "grid_auto_rows": null,
            "grid_gap": null,
            "max_width": null,
            "order": null,
            "_view_module_version": "1.2.0",
            "grid_template_areas": null,
            "object_position": null,
            "object_fit": null,
            "grid_auto_columns": null,
            "margin": null,
            "display": null,
            "left": null
          }
        }
      }
    }
  },
  "cells": [
    {
      "cell_type": "markdown",
      "metadata": {
        "id": "view-in-github",
        "colab_type": "text"
      },
      "source": [
        "<a href=\"https://colab.research.google.com/github/CSID-DGU/2021-1-CECD3-SASO-2/blob/master/NLP/NLP.ipynb\" target=\"_parent\"><img src=\"https://colab.research.google.com/assets/colab-badge.svg\" alt=\"Open In Colab\"/></a>"
      ]
    },
    {
      "cell_type": "markdown",
      "metadata": {
        "id": "L5moQP_33u6T"
      },
      "source": [
        "NLP 분석"
      ]
    },
    {
      "cell_type": "markdown",
      "metadata": {
        "id": "PbD_9axB4eP6"
      },
      "source": [
        "0. Colab에 라이브러리 설치"
      ]
    },
    {
      "cell_type": "code",
      "metadata": {
        "colab": {
          "base_uri": "https://localhost:8080/"
        },
        "id": "7OElEmYv4Rxp",
        "outputId": "82011ea1-dc96-4547-dd0b-e39386f19699"
      },
      "source": [
        "# !pip install pykospacing\n",
        "# !pip install konlpy\n",
        "\n",
        "\n",
        "# #Google drive \n",
        "# drive.mount('/content/drive')\n",
        "\n",
        "#한글 폰트 \n",
        "!apt -qq -y install fonts-nanum > /dev/null\n",
        " \n",
        "import matplotlib.pyplot as plt\n",
        "import matplotlib.font_manager as fm\n",
        " \n",
        "fontpath = '/usr/share/fonts/truetype/nanum/NanumBarunGothic.ttf'\n",
        "font = fm.FontProperties(fname=fontpath, size=10)\n",
        "fm._rebuild()\n",
        " \n",
        "# 그래프에 retina display 적용\n",
        "%config InlineBackend.figure_format = 'retina'\n",
        " \n",
        "# Colab 의 한글 폰트 설정\n",
        "plt.rc('font', family='NanumBarunGothic') "
      ],
      "execution_count": null,
      "outputs": [
        {
          "output_type": "stream",
          "text": [
            "\n",
            "WARNING: apt does not have a stable CLI interface. Use with caution in scripts.\n",
            "\n"
          ],
          "name": "stdout"
        }
      ]
    },
    {
      "cell_type": "markdown",
      "metadata": {
        "id": "2kT50M7A33xO"
      },
      "source": [
        "1. 라이브러리 로딩\n"
      ]
    },
    {
      "cell_type": "code",
      "metadata": {
        "id": "-1GtO4io3qty"
      },
      "source": [
        "import re\n",
        "import os\n",
        "import sys\n",
        "import json\n",
        "import pandas as pd\n",
        "import numpy as np\n",
        "\n",
        "from google.colab import drive\n",
        "# from pykospacing import spacing\n",
        "from konlpy.tag import Kkma\n",
        "from konlpy.tag import Okt\n",
        "from tqdm.notebook import tqdm\n",
        "import matplotlib.pyplot as plt\n",
        "from matplotlib import font_manager, rc\n",
        "# import soynlp\n",
        "import nltk\n",
        "\n",
        "kkma = Kkma()\n",
        "okt = Okt()\n",
        "plt.rc('font', family='NanumBarunGothic') "
      ],
      "execution_count": null,
      "outputs": []
    },
    {
      "cell_type": "markdown",
      "metadata": {
        "id": "0K072aXa5Bn6"
      },
      "source": [
        "2.전처리 과정"
      ]
    },
    {
      "cell_type": "code",
      "metadata": {
        "colab": {
          "base_uri": "https://localhost:8080/",
          "height": 849,
          "referenced_widgets": [
            "08590aa2693b470bae1a7f34ebfaf76f",
            "45969cca575f4b0fad3000a587d14fa7",
            "e95f9074f408418cbef57ae5fe0f182f",
            "21014cdeb8ae445985a05336ef36a1fe",
            "281e59b688e746299d4f4bac01815c87",
            "80aee75813274a0ea938e9b4989f71ae",
            "020950c46f4e4c41a058368eba1631b6",
            "2719a5aa8609406695f8f91696994cb2",
            "3c9bd87c7d4845e2819415dab6ead796",
            "ab75c5ab37fd49959cf890003cd026b3",
            "feb1df6201cf437988ccfb1e6c8fe0ee",
            "6ec7c178560b44d28aa974cd2a0168e9",
            "a9086033d4c54e3f88f1a2416e0b2c17",
            "9e50d6335cb748e889246295af670e5f",
            "f2d5e69a176a4c8fbf8b05a8bc010ee3",
            "ccdaa2e40b0a4b60bb0b5a481874a48e"
          ]
        },
        "id": "UJGM0Cln4BbQ",
        "outputId": "9d651cfb-3ede-4873-8d99-fe5c1f247eee"
      },
      "source": [
        "#파일 경로\n",
        "review_path = '/content/drive/MyDrive/Colab Notebooks/nlp/review.txt'\n",
        "\n",
        "\n",
        "#pandas 로 불러온다\n",
        "review_df = pd.read_csv(review_path, '\\t')\n",
        "\n",
        "# #리뷰가 널인 경우 , '' 값으로 대체\n",
        "# review_df.isnull().any() #document에 null값이 있다.\n",
        "# review_df['document'] = review_df['document'].fillna(''); #null값을 ''값으로 대체\n",
        "\n",
        "\n",
        "#review list 로 변환\n",
        "newData = []\n",
        "for i in tqdm(range(len(review_df))):\n",
        "  newData.append(review_df.values[i])\n",
        "\n",
        "#tokenize 함수\n",
        "def tokenize(doc):\n",
        "  #형태소와 품사를 join\n",
        "  return ['/'.join(t) for t in okt.pos(doc, norm=True, stem=True)]\n",
        "\n",
        "\n",
        "# tokenize 과정\n",
        "new_docs = [(tokenize(row[0])) for row in tqdm(newData)]\n",
        "\n",
        "print(newData)\n",
        "\n",
        "\n"
      ],
      "execution_count": null,
      "outputs": [
        {
          "output_type": "display_data",
          "data": {
            "application/vnd.jupyter.widget-view+json": {
              "model_id": "08590aa2693b470bae1a7f34ebfaf76f",
              "version_minor": 0,
              "version_major": 2
            },
            "text/plain": [
              "HBox(children=(FloatProgress(value=0.0, max=43.0), HTML(value='')))"
            ]
          },
          "metadata": {
            "tags": []
          }
        },
        {
          "output_type": "stream",
          "text": [
            "\n"
          ],
          "name": "stdout"
        },
        {
          "output_type": "display_data",
          "data": {
            "application/vnd.jupyter.widget-view+json": {
              "model_id": "3c9bd87c7d4845e2819415dab6ead796",
              "version_minor": 0,
              "version_major": 2
            },
            "text/plain": [
              "HBox(children=(FloatProgress(value=0.0, max=43.0), HTML(value='')))"
            ]
          },
          "metadata": {
            "tags": []
          }
        },
        {
          "output_type": "stream",
          "text": [
            "\n",
            "[array(['비중격으로 수술했고 자연스럽게 해달라구 요청드렸는데 부목을 떼고 보니 생각보다 너무 화려한 코가 등장 했어요. 근데그 코가 저한테 너무 잘어울리더라구요. 코하나로 얼굴도 엄청 작아보이고 너무 좋았어요.여러 후기 사진을 봤지만 귀락쌤 디자인은 진짜 최고인 것 같아요.'],\n",
            "      dtype=object), array(['브라운 김태규 원장님께 윤곽2종수술을 받았습니다. 수술 들어가기전 선생님이 뾰족라인 둥근라인 고르라 해서 둥근라인으로 골랐는데 둥근 라인으로 하길 정말 잘한 것 같아요!사람들도 얼굴이 정말 작아졌는데 살뺐냐 물어보는데라인이 둥글고 정말 자연스럽게 돼…'],\n",
            "      dtype=object), array(['구축이나 별다른 부작용 낌새는 안 보이는데 지금 실리콘이 6mm나 들어가 있었는데이 높이감은 저랑 왜 안 어울릴 수밖에 없는지, 제 얼굴 이미지와 어울리는 라인은 없었어요'],\n",
            "      dtype=object), array(['윤곽상담으로 받았고요~ 김태규원장님께 상담 받았어요~병원 상담 만 다녀본지 거의 한 세달은 된거같아요 흐지부지 끝나기도 했고 수술하지말까 생각도 할정도로 많이 지쳐있다보니까 제가 진짜 대충 이야기도 했고 대충 그냥 하면하고 말면 말고 이런식으로 이야기도 했는데 잘 받아주시고.. 걱정되시는 마음도 있으실거고 밍숭맹숭하실텐데 걱정마시라고 이야기도 잘 해주셨네요 ^^ 잘받고갑니다 감사해요~'],\n",
            "      dtype=object), array(['윤곽 상담이라서 진짜 긴장하고 갔었는데.. 김태규 원장님으로 상담 했구요 뵙고 한 5분 얘기 나눴나 엄청 편해졌어요 ㅋㅋㅋㅋㅋㅋ 생각보다 안 딱딱하게? 상담 봐주셨고 말씀하실 때  수술때는 좀 딱딱하게 들어갈거다, 뼈를 깎는게 쉬운일은 아니니.. 하시더라구요 일부로 상담 때 조금 풀어지게 해주시는것 같더라구요 긴장하면 될것도 안된다 라는 식으로도 말씀해주시고 맘 편하게 하시는게 좋다고 하셨구요! 무튼 상담은 잘 끝냈습니다 ㅎ!'],\n",
            "      dtype=object), array(['상담 자체의 친절도는 약간 부족했습니다. 유튜브 채널이 조회수가 잘 나오기 시작한 시점부터 훨씬 더 많이 유명해지셔서 그런지, 코 전문 선생님으로 알고 있는 김귀락 선생님께 코 관련 상담을 받기가 되게 어려웠어요. 다만 수술 결과에 대한 좋은 후기를 많이 보기는 해서 고민이 되네요.'],\n",
            "      dtype=object), array(['원장님이 너무 바쁘셔서 상담받는데 내가 다 시간 쪼달리는 기뷴..그래도 물어보는 사항들 자세하게 답변해주셨어요!!유투브에서 본 대로 솔직하게 상담해주셨고한번쯤상담다녀오는것도 좋을 듯 싶습니다!!!!!!!!!!'],\n",
            "      dtype=object), array(['유튜브에서 보던 느낌 그대로 상담 하세요 김태규 원장님. 그러나 자신만의 확고한 철학이 잇으셔서 그런지 타 병원 상담때와 대치되는 말을 몇개 하심 제 피부탄력이나 턱모양등... 결정적으로 후기사진이 하나 같이 몽달귀신 st 턱이어서 별로엿음'],\n",
            "      dtype=object), array(['ct사진 보면서 신경선 위치 확인해주시고 뼈 모양 보면서 달걀형 나오려면 어떻게 하는게 좋은지 설명해주셨습니다 객관적으로 포인트만 짚어주시는게 마음에 들었어요 유투브도 보고 갔었는데 실제로 보니까 좀 신기..ㅋㅋㅋ 전문가의 아우라가 느껴졌습니다'],\n",
            "      dtype=object), array(['우선 유튜브 보고 기대하고 간 곳인데'], dtype=object), array(['기대와 다르게 조금 정신없고 어수선한 분위기였습니다'], dtype=object), array(['그리고 상담을 길게 해주시길 원했는데 바쁘셔서 그런지 상담을 되게 짧게 해주셨어요 ㅠ 그래서 저는 그냥 상담만 받았습니다'],\n",
            "      dtype=object), array(['안면윤곽 상담받았어요 생각보다 병원에 사람이 많아요 김태규 원장님과 상담받았고 수술비용은 다른 병원에 바해서 조금 싼거같습니다. 원장님은 전문성 있어보였고 사람이 많아서 대기시간이 갈고 오래 기다린거 외엔 괜찮았습니다.'],\n",
            "      dtype=object), array(['코 상담 받으러 디테일한 시간까지 정해놓고갔는데 대기 시간이 너무 길어서 진이 빠졌던 기억이 나네요 유튜브 꽃자님 방송보고 기대했던 모양이 잇어서 갓는데 제 코가 좀 작은편이여서 그 모양으로는 잘 안나올거라고 하셔서 상담만 받고 나왔습니다.'],\n",
            "      dtype=object), array(['유투브보다가 갔는데 김태규 원장님 뵈니까 연예인 보는느낌 상담은 딱 필요한 것만 간결하게 다른사람들 보니까 대기 시간이 길었다는데 저는 별로 안기다리고 진행됬어요 3D광대수술법 듣고 너무 믿음생겼어요!!!'],\n",
            "      dtype=object), array(['김귀락 원장님이 인기가 많아서 그런가 확실히 대기가 짧지는 않았어요 그래도 기다린 보람이 있는 상담이었어요 되게 직설적이시기도 하고 말하실때도 쿨하게 말하시는게 오히려 좋은 말만 하는 것 보다 훨씬 신뢰도 가고 괜찮았어요 수술 방법에 대해서도 물어보면 잘 설명 해주셨고요'],\n",
            "      dtype=object), array(['대기는 좀 있었네요 그래도 상담도 친절하고 과한 권유 없이 필요한거만 딱 말해줬어요 실장님도 꼭해라 이런식으로 말 안해서 부담스럽지 않았고요 제 눈보시더니 매몰로 해도 될 눈이라고 매몰이나 절개 원하는거로 하라고 했어요 트임은 해도 상관은 없지만 굳이 안해도 될거 같다고 하셔서 고민 해보려고요'],\n",
            "      dtype=object), array(['친구가 코성형을 하고 너무너무 잘되서 물어보았더니 이곳에서 했다고 합니다. 상담할때도 제 컴플렉스인 부분을 콕콕 찝어서 잘 얘기해주셨습니다. 근데 상담실장분이 너무 불친절해서 기분이 상했어요. 상담실장님들 교육이 필요할듯해요.'],\n",
            "      dtype=object), array(['재수술로 처음 브라운 상담을 받았습니다 ~ 수술방법에 원장님과 이야기를 나누면서 적당한 시간에  무난하게 상담을 받고 나왔습니다 원장님은 최대한 이해시켜주려고 상담을 하는 듯 느꼈고 궁금한 부분에 대해서도 물어보라고 하시는 배려심도 있었어요'],\n",
            "      dtype=object), array(['성형수술 맨 처음 상담 다녔던게 쌍수였는데요 친구 따라 강남간다고 친구랑 같이 쫄래쫄래 상담 갔었어요ㅋㅋㅋ 대형이라 그런지 사람도 많고'],\n",
            "      dtype=object), array(['예쁜사람도 많고 첫 인상이 꽤 좋았던거 같아요 상담도 생각보다 길게 봤던거로 기억하는데 그때 인상 깊었던게 굳이 안해도 되는 것은 오히려 하지 말라고 말리셨던거였어요 제가 속쌍이었는데 쌍꺼풀 아웃라인으로 진하게 하고 싶다고 하니까 지금도 이쁘다고 아웃으로 하면 오히려 좀 부담스러워 질 수 있다고 하면서 고민 해보라고 하셨었어요ㅋㅋ'],\n",
            "      dtype=object), array(['상담 예약 하고 1시간 걸려서 갔는데 정해진 시간에 갔는데도 30분 이상 대기해서 스케줄도 있고 상담 못받고 그냥 돌아왔네요 ㅠㅠ 한번 보고 싶긴 했는데 여기서 하신분들 잘 되셨나 궁금합니다 기회가 되면 다시 방문 해보고 싶네요'],\n",
            "      dtype=object), array(['복코 상담 갔고 비싸다고 들었는데 240인가 나옴 매우 저렴 의사쌤 상담 중 복코 교정이 될 지 의문이 들었음 CT촬영 후 상담하는데 무료임 ct보면서 기증늑 쓸지 안 써도 될지 말함(확정적인건 없음) 원장님 바빠보이고 성의가 느껴지진 않음 상담한 원장님 이름도 모름..ㅋㅋㅋㅋㅋㅋ사진 보니 이지원원장이네'],\n",
            "      dtype=object), array(['김태규 원장님께 윤곽상담하러 갔는데 원장님 유튜브에서 보신것처럼 정말 솔직하시더라구요. 솔직하셔서 이해도 더 잘됬고 좋았어요. 원장님이 핵심만 콕콕 찔러주셔서 좋았구 수술을 많이 해봐서 오는 자신감 같은게 느껴졌어요. 환자를 많이 생각하시는것 같다는것도 느껴졌구요 윤곽은 첫수술이 마지막 수술이 되었으면 좋겠네요ㅜ 실장님은 되게 쿨하셨고 상담분위기 편하게 해주시려고 노력해주셔서 정말 감사했습니다 역쉬 좋은 원장님 밑엔 좋은 실장님이 계시는군요! 수술날 뵐께요~'],\n",
            "      dtype=object), array(['잘모르겠음 여러곳상담다녀봤는데 특별히다른거없는 그냥 완전평범한 성형외과임 근데 상담을 짧게함 대체 몇백들여서 얼굴만드는수술하는데 30분도안되는 상담받고서 어떻게하겠다는거임? 상담만받고 거른거같음 . . .'],\n",
            "      dtype=object), array(['몇 년전에 했는데 시간을 돌린다면.. ㅎㅎ..... 눈 코 전부 했는데 지금 다 재수술 알아보는중 ㅠㅠ 첫수술이 중요했던건데ㅠㅠ 슬프다 이뻐지고싶다~~ 상담갔을때 중국인들 엄청많았다 짝짜기~~~~~ 어렸어서 그랬나요'],\n",
            "      dtype=object), array(['아침 첫 타임으로 가서 그런지 사람은 많이 없었어요 씨티 찍고 상담 들어갔는데 요즘 바빠서 그런지 원장이 상담을 정말 대충대충 하는거 같더라구요.. 실장은 친절했고 과하게 권유는 안하더라구요!! 매부리가 있어서 무보형물 가능하다고 했어요'],\n",
            "      dtype=object), array(['추천 많은 병원이라 예상은 했는데 역시 사람 많았어요 예약 하고 갔지만 대기 좀 있었어요...ㅋㅋ 그래도 상담은 충분하게 시간 들여서 봐주시니까 됬죠 저는 실장님 운도 좋아서 친절한 실장님한테 받아서 예약푸쉬나 불친절도 없었어요 상담이랑 병원 분위기 다 전반적으로 좋았음'],\n",
            "      dtype=object), array(['눈 매몰로 재수술 했는데 원하는대로 잘 나왔어요! 라인은 아주 맘에 들고 첨엔 살짝 비대칭인가 걱정했는데 붓기 좀 빠지니 괜찮더라고요. 여기로 결정했던게 상담 받았을때 제가 원하는 스타일대로 제일 반영을 잘 해주시는 느낌이었어요ㅎㅎ 첨 했던 병원보다 여러모로 좋았네요!'],\n",
            "      dtype=object), array(['대기자는 많았는데 의외로 상담시간은 엄청나게 길지는 않았습니다. ct찍어서 상담 진행되고 ct찍어서 상담비 있을 줄 알았는데 따로 상담비는 없었습니다. 시설 좋고 대체적으로 친절하고 분위기 좋았습니다. 1층에 있어서 더 좋음'],\n",
            "      dtype=object), array(['코성형 상담받고왔습니다. 수술중이라고 해서 30분정도 기다리고 들어갔는데. 상담하자마자 코지적 하면서 귀찮아 하는 말투도 대해 주셔거 너무 실망했었습니다. 다른분께는 어땠는지 모르겠지만 의사 친절도와 상담전문성에서 큰기대는 안 하시는 게 좋을 것 같습니다 .'],\n",
            "      dtype=object), array(['제 코에 들어가 잇던 실리콘 조각입니다. 손대지 않앗고 빼고 난후 직후 물로 씻어서 의사분께서 주신거구요. 사진 보시고 여기 병원 갈지 말지 판단하시면 될거같네요.한번 잘 생각해보세요. 자신의 몸은 하나뿐이라는것도요.'],\n",
            "      dtype=object), array(['확실히 성수기라 그런가 사람이 많더라고요 실장님한테 상담 받고 나서 김귀락 원장님께 상담 받았어요 제 코 보고 콧볼축소까지는 안해도 될거라고 콧대랑 코끝 수술만 권유 해주셨는데요 ct보면서 자세하게 설명해주시고 제가 궁금한거 다 물어보다 보니까 상담시간이 좀 길었네요 코수술만 전문적으로 하시는 분이라 그런지 엄청 믿음도 가고 상담 다닌데 중에 가장 알차게 상담한거 같아요'],\n",
            "      dtype=object), array(['쌍수랑 트임 같이 하려다 보니 흉터 남는거에 신경을 안쓸 수가 없었는데요 상담 받는데 제 걱정들 다 들어주시고 흉터 안남도록 수술이랑 사후관리에 신경 많이 써주셨어요 인아웃으로 잡고 뒤트임 한건데 붓기 가라앉고 나니까 너무 마음에 드네용!'],\n",
            "      dtype=object), array(['광대 축소로 병원 방문 했어요 원장님 친절하셨고 10분 정도 상담했어요 실장님 예약푸쉬 있었어요 원장님은 마음에 들었는데 실장님이 너무 상업적으로 하셔서 수술 받기 꺼려졌어요 가격도 비싸요 ... 잘한다는 말은 들었어요'],\n",
            "      dtype=object), array(['윤곽이랑 눈코 상담 갔었는데 김태규 원장님도 매우친절하게 윤곽에 대해서 설명 잘해주셨고 김귀락 원장님도 눈코에 대한 설명 잘해주셨음. 사람이 상당히 많았었고 실장님들도 나쁘진않았음. 수술을 받진 않았지만 상담은 굿'],\n",
            "      dtype=object), array(['수술들어가기전까지는 설레기도 하고 기대감도 넘쳤습니다 막상 수술을 들어가니 커튼같은걸로 쳐진 8인실병실같은 수술대가 연달아 있었고 침대마다 환자가 누워있었는데 수술실이라고 하기엔 너무 뭐라고 해야하지 .....눕자마자 원장님 얼굴도 못보고 잠들었습니다. 결과적으로는 수술은 괜찮게 되었지만...그 이상한 기분은 찝찝하게 남았있어요..'],\n",
            "      dtype=object), array(['처음 실장 상담시엔 거의 실장이 방법이건 재료던.. 어떻게 할 지를 정해주더라구요. 마지막엔 원장님이 보셔야 아시겟지만 .. 이라고 하긴햇는데 음.. 어떤걸로 할 거다.를 실장이 얘기해주니 신뢰가 별로.. 근데 원장님 상담하니 더 세세하게 실장이랑은 전혀다르게 상담해주셨고 내용도 알찼고 아주 좋음'],\n",
            "      dtype=object), array(['어릴때 멋모르고 했는데 조금더 자세한 설명과 굳이 해야겠냐 한마디만 해줫어도 .. ㅋㅋ 부작용 달고삽니다 오년째입니다 왼쪽은 저리고 아프고 감각도 둔하고 핀제거 애초에 굳이 제거 할필요 없다고도 말 안했음 좋겠고 자세한 설명 있으면 좋겠어요'],\n",
            "      dtype=object), array(['의사선생님은 워낙유명하셔서 마음에듣는데 실장이 불친절합니다 .... 이건 제혼자의견만은 아닌듯하네요... 제지인이 여기서했는데  코 재수술했습니다 수술결과는 지금 꽤나 만족해합니다. 다만 실장이 불친절하다는것은 같은의견입니다'],\n",
            "      dtype=object), array(['자연유착?인가 4년전에 했습니다. 찝는거랑 똑같은데 풀림 방지용으로 끝에만 살짝 절개한 방식으로 했어요. 인아웃으로 했는데 현재 만족스러워요. 상담 당시 원장님이 되게 전문적으로 친절하게 해주셔서 믿고 결정한 걸로 기억하네요.'],\n",
            "      dtype=object), array(['의사선생님은 믿음이 갔고 가격은 쎈편이더라구요 저는 코상담했습니다 가능하지 않은건 솔직하게 말해주셨고 시티 쵤영하면서 직접 보면서 설명 들으니 좀더 믿음이 갔습니다 지금 24개 병원 고민중인데 가격이 걸리네요'],\n",
            "      dtype=object), array(['6년전 처음으로10군데 이상 발품 팔아서 선택한병원.. 복코수술을 하였으나... 1년도 되지않아 실리콘비칭으로 실리콘제거 복코는 교정되지 않았고 현재 나는 재수술을 열심히 알아보는중임'],\n",
            "      dtype=object)]\n"
          ],
          "name": "stdout"
        }
      ]
    },
    {
      "cell_type": "code",
      "metadata": {
        "colab": {
          "base_uri": "https://localhost:8080/",
          "height": 739
        },
        "id": "_JYy7EgZ5S1Y",
        "outputId": "b51ed258-ab03-4a86-9216-bb5d51add490"
      },
      "source": [
        "#토큰 구하기\n",
        "tokens = [t for d in new_docs for t in d]\n",
        "print(\"토큰개수:\", len(tokens))\n",
        "# print(tokens)\n",
        "\n",
        "#nltk 를 통한 전처리\n",
        "text = nltk.Text(tokens, name='NMSC')\n",
        "\n",
        "#토큰개수\n",
        "print(len(text.tokens))\n",
        "\n",
        "#중복을 제외한 토큰개수\n",
        "print(len(set(text.tokens)))\n",
        "\n",
        "#출력빈도가 높은 상위 토큰 10개\n",
        "print(text.vocab().most_common(10))\n",
        "\n",
        "#상위 토큰 10개 matpolib 으로 출력\n",
        "plt.figure(figsize=(20,10))\n",
        "text.plot(50)\n"
      ],
      "execution_count": null,
      "outputs": [
        {
          "output_type": "stream",
          "text": [
            "토큰개수: 2132\n",
            "2132\n",
            "715\n",
            "[('하다/Verb', 97), ('상담/Noun', 68), ('./Punctuation', 45), ('이/Josa', 45), ('도/Josa', 35), ('님/Suffix', 35), ('은/Josa', 31), ('원장/Noun', 28), ('으로/Josa', 26), ('수술/Noun', 26)]\n"
          ],
          "name": "stdout"
        },
        {
          "output_type": "display_data",
          "data": {
            "image/png": "[encoded data removed]",
            "text/plain": [
              "<Figure size 1440x720 with 1 Axes>"
            ]
          },
          "metadata": {
            "tags": [],
            "image/png": {
              "width": 1169,
              "height": 654
            },
            "needs_background": "light"
          }
        }
      ]
    },
    {
      "cell_type": "code",
      "metadata": {
        "id": "EaUVCGmS-nIN"
      },
      "source": [
        ""
      ],
      "execution_count": null,
      "outputs": []
    }
  ]
}