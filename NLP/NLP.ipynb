{
  "nbformat": 4,
  "nbformat_minor": 0,
  "metadata": {
    "colab": {
      "name": "NLP.ipynb",
      "provenance": [],
      "collapsed_sections": [],
      "authorship_tag": "ABX9TyOXCOz2Wzo6BR5n2GaH4trv",
      "include_colab_link": true
    },
    "kernelspec": {
      "name": "python3",
      "display_name": "Python 3"
    },
    "language_info": {
      "name": "python"
    },
    "widgets": {
      "application/vnd.jupyter.widget-state+json": {
        "8fd707a40b4440a2b1b7fdf07b70ea61": {
          "model_module": "@jupyter-widgets/controls",
          "model_name": "HBoxModel",
          "state": {
            "_view_name": "HBoxView",
            "_dom_classes": [],
            "_model_name": "HBoxModel",
            "_view_module": "@jupyter-widgets/controls",
            "_model_module_version": "1.5.0",
            "_view_count": null,
            "_view_module_version": "1.5.0",
            "box_style": "",
            "layout": "IPY_MODEL_eb10efa2216b4936b08f4c7443ba8f82",
            "_model_module": "@jupyter-widgets/controls",
            "children": [
              "IPY_MODEL_8a4a609014ad429e8d3eb73354413431",
              "IPY_MODEL_50e1a8b10c0a4158ade9d219dbaf1cce"
            ]
          }
        },
        "eb10efa2216b4936b08f4c7443ba8f82": {
          "model_module": "@jupyter-widgets/base",
          "model_name": "LayoutModel",
          "state": {
            "_view_name": "LayoutView",
            "grid_template_rows": null,
            "right": null,
            "justify_content": null,
            "_view_module": "@jupyter-widgets/base",
            "overflow": null,
            "_model_module_version": "1.2.0",
            "_view_count": null,
            "flex_flow": null,
            "width": null,
            "min_width": null,
            "border": null,
            "align_items": null,
            "bottom": null,
            "_model_module": "@jupyter-widgets/base",
            "top": null,
            "grid_column": null,
            "overflow_y": null,
            "overflow_x": null,
            "grid_auto_flow": null,
            "grid_area": null,
            "grid_template_columns": null,
            "flex": null,
            "_model_name": "LayoutModel",
            "justify_items": null,
            "grid_row": null,
            "max_height": null,
            "align_content": null,
            "visibility": null,
            "align_self": null,
            "height": null,
            "min_height": null,
            "padding": null,
            "grid_auto_rows": null,
            "grid_gap": null,
            "max_width": null,
            "order": null,
            "_view_module_version": "1.2.0",
            "grid_template_areas": null,
            "object_position": null,
            "object_fit": null,
            "grid_auto_columns": null,
            "margin": null,
            "display": null,
            "left": null
          }
        },
        "8a4a609014ad429e8d3eb73354413431": {
          "model_module": "@jupyter-widgets/controls",
          "model_name": "FloatProgressModel",
          "state": {
            "_view_name": "ProgressView",
            "style": "IPY_MODEL_ad9614f3c4dc4c6eb86cb3c33b1c3927",
            "_dom_classes": [],
            "description": "Json Data 합치기: 100%",
            "_model_name": "FloatProgressModel",
            "bar_style": "success",
            "max": 499,
            "_view_module": "@jupyter-widgets/controls",
            "_model_module_version": "1.5.0",
            "value": 499,
            "_view_count": null,
            "_view_module_version": "1.5.0",
            "orientation": "horizontal",
            "min": 0,
            "description_tooltip": null,
            "_model_module": "@jupyter-widgets/controls",
            "layout": "IPY_MODEL_e211c096fd9443bfaea9e0e678184af2"
          }
        },
        "50e1a8b10c0a4158ade9d219dbaf1cce": {
          "model_module": "@jupyter-widgets/controls",
          "model_name": "HTMLModel",
          "state": {
            "_view_name": "HTMLView",
            "style": "IPY_MODEL_e98dca007343491fb06caef12027a562",
            "_dom_classes": [],
            "description": "",
            "_model_name": "HTMLModel",
            "placeholder": "​",
            "_view_module": "@jupyter-widgets/controls",
            "_model_module_version": "1.5.0",
            "value": " 499/499 [00:05&lt;00:00, 84.64it/s]",
            "_view_count": null,
            "_view_module_version": "1.5.0",
            "description_tooltip": null,
            "_model_module": "@jupyter-widgets/controls",
            "layout": "IPY_MODEL_e216f1ffeab948248ad6523778fe65bd"
          }
        },
        "ad9614f3c4dc4c6eb86cb3c33b1c3927": {
          "model_module": "@jupyter-widgets/controls",
          "model_name": "ProgressStyleModel",
          "state": {
            "_view_name": "StyleView",
            "_model_name": "ProgressStyleModel",
            "description_width": "initial",
            "_view_module": "@jupyter-widgets/base",
            "_model_module_version": "1.5.0",
            "_view_count": null,
            "_view_module_version": "1.2.0",
            "bar_color": null,
            "_model_module": "@jupyter-widgets/controls"
          }
        },
        "e211c096fd9443bfaea9e0e678184af2": {
          "model_module": "@jupyter-widgets/base",
          "model_name": "LayoutModel",
          "state": {
            "_view_name": "LayoutView",
            "grid_template_rows": null,
            "right": null,
            "justify_content": null,
            "_view_module": "@jupyter-widgets/base",
            "overflow": null,
            "_model_module_version": "1.2.0",
            "_view_count": null,
            "flex_flow": null,
            "width": null,
            "min_width": null,
            "border": null,
            "align_items": null,
            "bottom": null,
            "_model_module": "@jupyter-widgets/base",
            "top": null,
            "grid_column": null,
            "overflow_y": null,
            "overflow_x": null,
            "grid_auto_flow": null,
            "grid_area": null,
            "grid_template_columns": null,
            "flex": null,
            "_model_name": "LayoutModel",
            "justify_items": null,
            "grid_row": null,
            "max_height": null,
            "align_content": null,
            "visibility": null,
            "align_self": null,
            "height": null,
            "min_height": null,
            "padding": null,
            "grid_auto_rows": null,
            "grid_gap": null,
            "max_width": null,
            "order": null,
            "_view_module_version": "1.2.0",
            "grid_template_areas": null,
            "object_position": null,
            "object_fit": null,
            "grid_auto_columns": null,
            "margin": null,
            "display": null,
            "left": null
          }
        },
        "e98dca007343491fb06caef12027a562": {
          "model_module": "@jupyter-widgets/controls",
          "model_name": "DescriptionStyleModel",
          "state": {
            "_view_name": "StyleView",
            "_model_name": "DescriptionStyleModel",
            "description_width": "",
            "_view_module": "@jupyter-widgets/base",
            "_model_module_version": "1.5.0",
            "_view_count": null,
            "_view_module_version": "1.2.0",
            "_model_module": "@jupyter-widgets/controls"
          }
        },
        "e216f1ffeab948248ad6523778fe65bd": {
          "model_module": "@jupyter-widgets/base",
          "model_name": "LayoutModel",
          "state": {
            "_view_name": "LayoutView",
            "grid_template_rows": null,
            "right": null,
            "justify_content": null,
            "_view_module": "@jupyter-widgets/base",
            "overflow": null,
            "_model_module_version": "1.2.0",
            "_view_count": null,
            "flex_flow": null,
            "width": null,
            "min_width": null,
            "border": null,
            "align_items": null,
            "bottom": null,
            "_model_module": "@jupyter-widgets/base",
            "top": null,
            "grid_column": null,
            "overflow_y": null,
            "overflow_x": null,
            "grid_auto_flow": null,
            "grid_area": null,
            "grid_template_columns": null,
            "flex": null,
            "_model_name": "LayoutModel",
            "justify_items": null,
            "grid_row": null,
            "max_height": null,
            "align_content": null,
            "visibility": null,
            "align_self": null,
            "height": null,
            "min_height": null,
            "padding": null,
            "grid_auto_rows": null,
            "grid_gap": null,
            "max_width": null,
            "order": null,
            "_view_module_version": "1.2.0",
            "grid_template_areas": null,
            "object_position": null,
            "object_fit": null,
            "grid_auto_columns": null,
            "margin": null,
            "display": null,
            "left": null
          }
        },
        "93957dbd2ce945338dfd285e0dab1682": {
          "model_module": "@jupyter-widgets/controls",
          "model_name": "HBoxModel",
          "state": {
            "_view_name": "HBoxView",
            "_dom_classes": [],
            "_model_name": "HBoxModel",
            "_view_module": "@jupyter-widgets/controls",
            "_model_module_version": "1.5.0",
            "_view_count": null,
            "_view_module_version": "1.5.0",
            "box_style": "",
            "layout": "IPY_MODEL_d46e37cc169c4790884bbf8e9ef62066",
            "_model_module": "@jupyter-widgets/controls",
            "children": [
              "IPY_MODEL_c66582cff437479bb675ce031249ec06",
              "IPY_MODEL_d0aaaab1a7f245d8b542d54a1b5de2f3"
            ]
          }
        },
        "d46e37cc169c4790884bbf8e9ef62066": {
          "model_module": "@jupyter-widgets/base",
          "model_name": "LayoutModel",
          "state": {
            "_view_name": "LayoutView",
            "grid_template_rows": null,
            "right": null,
            "justify_content": null,
            "_view_module": "@jupyter-widgets/base",
            "overflow": null,
            "_model_module_version": "1.2.0",
            "_view_count": null,
            "flex_flow": null,
            "width": null,
            "min_width": null,
            "border": null,
            "align_items": null,
            "bottom": null,
            "_model_module": "@jupyter-widgets/base",
            "top": null,
            "grid_column": null,
            "overflow_y": null,
            "overflow_x": null,
            "grid_auto_flow": null,
            "grid_area": null,
            "grid_template_columns": null,
            "flex": null,
            "_model_name": "LayoutModel",
            "justify_items": null,
            "grid_row": null,
            "max_height": null,
            "align_content": null,
            "visibility": null,
            "align_self": null,
            "height": null,
            "min_height": null,
            "padding": null,
            "grid_auto_rows": null,
            "grid_gap": null,
            "max_width": null,
            "order": null,
            "_view_module_version": "1.2.0",
            "grid_template_areas": null,
            "object_position": null,
            "object_fit": null,
            "grid_auto_columns": null,
            "margin": null,
            "display": null,
            "left": null
          }
        },
        "c66582cff437479bb675ce031249ec06": {
          "model_module": "@jupyter-widgets/controls",
          "model_name": "FloatProgressModel",
          "state": {
            "_view_name": "ProgressView",
            "style": "IPY_MODEL_67ffd4bdfdd84950a05030398bbbd996",
            "_dom_classes": [],
            "description": "Tokenize 과정: 100%",
            "_model_name": "FloatProgressModel",
            "bar_style": "success",
            "max": 35939,
            "_view_module": "@jupyter-widgets/controls",
            "_model_module_version": "1.5.0",
            "value": 35939,
            "_view_count": null,
            "_view_module_version": "1.5.0",
            "orientation": "horizontal",
            "min": 0,
            "description_tooltip": null,
            "_model_module": "@jupyter-widgets/controls",
            "layout": "IPY_MODEL_25bec26c2a424a6f931686c9940585c0"
          }
        },
        "d0aaaab1a7f245d8b542d54a1b5de2f3": {
          "model_module": "@jupyter-widgets/controls",
          "model_name": "HTMLModel",
          "state": {
            "_view_name": "HTMLView",
            "style": "IPY_MODEL_6f6182f7905a4f61a0e9920c9c9c80e7",
            "_dom_classes": [],
            "description": "",
            "_model_name": "HTMLModel",
            "placeholder": "​",
            "_view_module": "@jupyter-widgets/controls",
            "_model_module_version": "1.5.0",
            "value": " 35939/35939 [00:01&lt;00:00, 23360.23it/s]",
            "_view_count": null,
            "_view_module_version": "1.5.0",
            "description_tooltip": null,
            "_model_module": "@jupyter-widgets/controls",
            "layout": "IPY_MODEL_40bc401e221f407796443e90b8b0314d"
          }
        },
        "67ffd4bdfdd84950a05030398bbbd996": {
          "model_module": "@jupyter-widgets/controls",
          "model_name": "ProgressStyleModel",
          "state": {
            "_view_name": "StyleView",
            "_model_name": "ProgressStyleModel",
            "description_width": "initial",
            "_view_module": "@jupyter-widgets/base",
            "_model_module_version": "1.5.0",
            "_view_count": null,
            "_view_module_version": "1.2.0",
            "bar_color": null,
            "_model_module": "@jupyter-widgets/controls"
          }
        },
        "25bec26c2a424a6f931686c9940585c0": {
          "model_module": "@jupyter-widgets/base",
          "model_name": "LayoutModel",
          "state": {
            "_view_name": "LayoutView",
            "grid_template_rows": null,
            "right": null,
            "justify_content": null,
            "_view_module": "@jupyter-widgets/base",
            "overflow": null,
            "_model_module_version": "1.2.0",
            "_view_count": null,
            "flex_flow": null,
            "width": null,
            "min_width": null,
            "border": null,
            "align_items": null,
            "bottom": null,
            "_model_module": "@jupyter-widgets/base",
            "top": null,
            "grid_column": null,
            "overflow_y": null,
            "overflow_x": null,
            "grid_auto_flow": null,
            "grid_area": null,
            "grid_template_columns": null,
            "flex": null,
            "_model_name": "LayoutModel",
            "justify_items": null,
            "grid_row": null,
            "max_height": null,
            "align_content": null,
            "visibility": null,
            "align_self": null,
            "height": null,
            "min_height": null,
            "padding": null,
            "grid_auto_rows": null,
            "grid_gap": null,
            "max_width": null,
            "order": null,
            "_view_module_version": "1.2.0",
            "grid_template_areas": null,
            "object_position": null,
            "object_fit": null,
            "grid_auto_columns": null,
            "margin": null,
            "display": null,
            "left": null
          }
        },
        "6f6182f7905a4f61a0e9920c9c9c80e7": {
          "model_module": "@jupyter-widgets/controls",
          "model_name": "DescriptionStyleModel",
          "state": {
            "_view_name": "StyleView",
            "_model_name": "DescriptionStyleModel",
            "description_width": "",
            "_view_module": "@jupyter-widgets/base",
            "_model_module_version": "1.5.0",
            "_view_count": null,
            "_view_module_version": "1.2.0",
            "_model_module": "@jupyter-widgets/controls"
          }
        },
        "40bc401e221f407796443e90b8b0314d": {
          "model_module": "@jupyter-widgets/base",
          "model_name": "LayoutModel",
          "state": {
            "_view_name": "LayoutView",
            "grid_template_rows": null,
            "right": null,
            "justify_content": null,
            "_view_module": "@jupyter-widgets/base",
            "overflow": null,
            "_model_module_version": "1.2.0",
            "_view_count": null,
            "flex_flow": null,
            "width": null,
            "min_width": null,
            "border": null,
            "align_items": null,
            "bottom": null,
            "_model_module": "@jupyter-widgets/base",
            "top": null,
            "grid_column": null,
            "overflow_y": null,
            "overflow_x": null,
            "grid_auto_flow": null,
            "grid_area": null,
            "grid_template_columns": null,
            "flex": null,
            "_model_name": "LayoutModel",
            "justify_items": null,
            "grid_row": null,
            "max_height": null,
            "align_content": null,
            "visibility": null,
            "align_self": null,
            "height": null,
            "min_height": null,
            "padding": null,
            "grid_auto_rows": null,
            "grid_gap": null,
            "max_width": null,
            "order": null,
            "_view_module_version": "1.2.0",
            "grid_template_areas": null,
            "object_position": null,
            "object_fit": null,
            "grid_auto_columns": null,
            "margin": null,
            "display": null,
            "left": null
          }
        },
        "a5a05cb15c1c4855a15d4e45b2afc1e6": {
          "model_module": "@jupyter-widgets/controls",
          "model_name": "HBoxModel",
          "state": {
            "_view_name": "HBoxView",
            "_dom_classes": [],
            "_model_name": "HBoxModel",
            "_view_module": "@jupyter-widgets/controls",
            "_model_module_version": "1.5.0",
            "_view_count": null,
            "_view_module_version": "1.5.0",
            "box_style": "",
            "layout": "IPY_MODEL_aad3f2e4b3e544eda98b2f04f1660b84",
            "_model_module": "@jupyter-widgets/controls",
            "children": [
              "IPY_MODEL_a18ba390347842ca99a350056fccd091",
              "IPY_MODEL_eafbe2a6f128475488a7e45eef845830"
            ]
          }
        },
        "aad3f2e4b3e544eda98b2f04f1660b84": {
          "model_module": "@jupyter-widgets/base",
          "model_name": "LayoutModel",
          "state": {
            "_view_name": "LayoutView",
            "grid_template_rows": null,
            "right": null,
            "justify_content": null,
            "_view_module": "@jupyter-widgets/base",
            "overflow": null,
            "_model_module_version": "1.2.0",
            "_view_count": null,
            "flex_flow": null,
            "width": null,
            "min_width": null,
            "border": null,
            "align_items": null,
            "bottom": null,
            "_model_module": "@jupyter-widgets/base",
            "top": null,
            "grid_column": null,
            "overflow_y": null,
            "overflow_x": null,
            "grid_auto_flow": null,
            "grid_area": null,
            "grid_template_columns": null,
            "flex": null,
            "_model_name": "LayoutModel",
            "justify_items": null,
            "grid_row": null,
            "max_height": null,
            "align_content": null,
            "visibility": null,
            "align_self": null,
            "height": null,
            "min_height": null,
            "padding": null,
            "grid_auto_rows": null,
            "grid_gap": null,
            "max_width": null,
            "order": null,
            "_view_module_version": "1.2.0",
            "grid_template_areas": null,
            "object_position": null,
            "object_fit": null,
            "grid_auto_columns": null,
            "margin": null,
            "display": null,
            "left": null
          }
        },
        "a18ba390347842ca99a350056fccd091": {
          "model_module": "@jupyter-widgets/controls",
          "model_name": "FloatProgressModel",
          "state": {
            "_view_name": "ProgressView",
            "style": "IPY_MODEL_5078b481d4a2414296a9c508d0d3723f",
            "_dom_classes": [],
            "description": "100%",
            "_model_name": "FloatProgressModel",
            "bar_style": "success",
            "max": 35939,
            "_view_module": "@jupyter-widgets/controls",
            "_model_module_version": "1.5.0",
            "value": 35939,
            "_view_count": null,
            "_view_module_version": "1.5.0",
            "orientation": "horizontal",
            "min": 0,
            "description_tooltip": null,
            "_model_module": "@jupyter-widgets/controls",
            "layout": "IPY_MODEL_92bd6af4358a468082daa61eda903bce"
          }
        },
        "eafbe2a6f128475488a7e45eef845830": {
          "model_module": "@jupyter-widgets/controls",
          "model_name": "HTMLModel",
          "state": {
            "_view_name": "HTMLView",
            "style": "IPY_MODEL_0d46d751e0cb4fda938e17b123978224",
            "_dom_classes": [],
            "description": "",
            "_model_name": "HTMLModel",
            "placeholder": "​",
            "_view_module": "@jupyter-widgets/controls",
            "_model_module_version": "1.5.0",
            "value": " 35939/35939 [24:38&lt;00:00, 24.31it/s]",
            "_view_count": null,
            "_view_module_version": "1.5.0",
            "description_tooltip": null,
            "_model_module": "@jupyter-widgets/controls",
            "layout": "IPY_MODEL_0875c7f7830542e2aa808f24f7010f8a"
          }
        },
        "5078b481d4a2414296a9c508d0d3723f": {
          "model_module": "@jupyter-widgets/controls",
          "model_name": "ProgressStyleModel",
          "state": {
            "_view_name": "StyleView",
            "_model_name": "ProgressStyleModel",
            "description_width": "initial",
            "_view_module": "@jupyter-widgets/base",
            "_model_module_version": "1.5.0",
            "_view_count": null,
            "_view_module_version": "1.2.0",
            "bar_color": null,
            "_model_module": "@jupyter-widgets/controls"
          }
        },
        "92bd6af4358a468082daa61eda903bce": {
          "model_module": "@jupyter-widgets/base",
          "model_name": "LayoutModel",
          "state": {
            "_view_name": "LayoutView",
            "grid_template_rows": null,
            "right": null,
            "justify_content": null,
            "_view_module": "@jupyter-widgets/base",
            "overflow": null,
            "_model_module_version": "1.2.0",
            "_view_count": null,
            "flex_flow": null,
            "width": null,
            "min_width": null,
            "border": null,
            "align_items": null,
            "bottom": null,
            "_model_module": "@jupyter-widgets/base",
            "top": null,
            "grid_column": null,
            "overflow_y": null,
            "overflow_x": null,
            "grid_auto_flow": null,
            "grid_area": null,
            "grid_template_columns": null,
            "flex": null,
            "_model_name": "LayoutModel",
            "justify_items": null,
            "grid_row": null,
            "max_height": null,
            "align_content": null,
            "visibility": null,
            "align_self": null,
            "height": null,
            "min_height": null,
            "padding": null,
            "grid_auto_rows": null,
            "grid_gap": null,
            "max_width": null,
            "order": null,
            "_view_module_version": "1.2.0",
            "grid_template_areas": null,
            "object_position": null,
            "object_fit": null,
            "grid_auto_columns": null,
            "margin": null,
            "display": null,
            "left": null
          }
        },
        "0d46d751e0cb4fda938e17b123978224": {
          "model_module": "@jupyter-widgets/controls",
          "model_name": "DescriptionStyleModel",
          "state": {
            "_view_name": "StyleView",
            "_model_name": "DescriptionStyleModel",
            "description_width": "",
            "_view_module": "@jupyter-widgets/base",
            "_model_module_version": "1.5.0",
            "_view_count": null,
            "_view_module_version": "1.2.0",
            "_model_module": "@jupyter-widgets/controls"
          }
        },
        "0875c7f7830542e2aa808f24f7010f8a": {
          "model_module": "@jupyter-widgets/base",
          "model_name": "LayoutModel",
          "state": {
            "_view_name": "LayoutView",
            "grid_template_rows": null,
            "right": null,
            "justify_content": null,
            "_view_module": "@jupyter-widgets/base",
            "overflow": null,
            "_model_module_version": "1.2.0",
            "_view_count": null,
            "flex_flow": null,
            "width": null,
            "min_width": null,
            "border": null,
            "align_items": null,
            "bottom": null,
            "_model_module": "@jupyter-widgets/base",
            "top": null,
            "grid_column": null,
            "overflow_y": null,
            "overflow_x": null,
            "grid_auto_flow": null,
            "grid_area": null,
            "grid_template_columns": null,
            "flex": null,
            "_model_name": "LayoutModel",
            "justify_items": null,
            "grid_row": null,
            "max_height": null,
            "align_content": null,
            "visibility": null,
            "align_self": null,
            "height": null,
            "min_height": null,
            "padding": null,
            "grid_auto_rows": null,
            "grid_gap": null,
            "max_width": null,
            "order": null,
            "_view_module_version": "1.2.0",
            "grid_template_areas": null,
            "object_position": null,
            "object_fit": null,
            "grid_auto_columns": null,
            "margin": null,
            "display": null,
            "left": null
          }
        }
      }
    }
  },
  "cells": [
    {
      "cell_type": "markdown",
      "metadata": {
        "id": "view-in-github",
        "colab_type": "text"
      },
      "source": [
        "<a href=\"https://colab.research.google.com/github/CSID-DGU/2021-1-CECD3-SASO-2/blob/master/NLP/NLP.ipynb\" target=\"_parent\"><img src=\"https://colab.research.google.com/assets/colab-badge.svg\" alt=\"Open In Colab\"/></a>"
      ]
    },
    {
      "cell_type": "markdown",
      "metadata": {
        "id": "L5moQP_33u6T"
      },
      "source": [
        "NLP 분석"
      ]
    },
    {
      "cell_type": "markdown",
      "metadata": {
        "id": "PbD_9axB4eP6"
      },
      "source": [
        "0. Colab에 라이브러리 설치"
      ]
    },
    {
      "cell_type": "code",
      "metadata": {
        "colab": {
          "base_uri": "https://localhost:8080/"
        },
        "id": "7OElEmYv4Rxp",
        "outputId": "a235e89b-f439-42e3-fdcb-5aac71d7091f"
      },
      "source": [
        "# !pip install pykospacing\n",
        "!pip install konlpy\n",
        "\n",
        "\n",
        "\n",
        "# #Google drive \n",
        "from google.colab import drive\n",
        "drive.mount('/content/drive')\n",
        "\n",
        "# #한글 폰트 \n",
        "!apt -qq -y install fonts-nanum > /dev/null\n",
        " \n",
        "import matplotlib.pyplot as plt\n",
        "import matplotlib.font_manager as fm\n",
        " \n",
        "fontpath = '/usr/share/fonts/truetype/nanum/NanumBarunGothic.ttf'\n",
        "font = fm.FontProperties(fname=fontpath, size=10)\n",
        "fm._rebuild()\n",
        " \n",
        "# 그래프에 retina display 적용\n",
        "%config InlineBackend.figure_format = 'retina'\n",
        " \n",
        "# Colab 의 한글 폰트 설정\n",
        "plt.rc('font', family='NanumBarunGothic') "
      ],
      "execution_count": 6,
      "outputs": [
        {
          "output_type": "stream",
          "text": [
            "Collecting konlpy\n",
            "\u001b[?25l  Downloading https://files.pythonhosted.org/packages/85/0e/f385566fec837c0b83f216b2da65db9997b35dd675e107752005b7d392b1/konlpy-0.5.2-py2.py3-none-any.whl (19.4MB)\n",
            "\u001b[K     |████████████████████████████████| 19.4MB 17.4MB/s \n",
            "\u001b[?25hRequirement already satisfied: lxml>=4.1.0 in /usr/local/lib/python3.7/dist-packages (from konlpy) (4.2.6)\n",
            "Requirement already satisfied: numpy>=1.6 in /usr/local/lib/python3.7/dist-packages (from konlpy) (1.19.5)\n",
            "Collecting JPype1>=0.7.0\n",
            "\u001b[?25l  Downloading https://files.pythonhosted.org/packages/cd/a5/9781e2ef4ca92d09912c4794642c1653aea7607f473e156cf4d423a881a1/JPype1-1.2.1-cp37-cp37m-manylinux2010_x86_64.whl (457kB)\n",
            "\u001b[K     |████████████████████████████████| 460kB 47.6MB/s \n",
            "\u001b[?25hRequirement already satisfied: tweepy>=3.7.0 in /usr/local/lib/python3.7/dist-packages (from konlpy) (3.10.0)\n",
            "Collecting beautifulsoup4==4.6.0\n",
            "\u001b[?25l  Downloading https://files.pythonhosted.org/packages/9e/d4/10f46e5cfac773e22707237bfcd51bbffeaf0a576b0a847ec7ab15bd7ace/beautifulsoup4-4.6.0-py3-none-any.whl (86kB)\n",
            "\u001b[K     |████████████████████████████████| 92kB 5.7MB/s \n",
            "\u001b[?25hCollecting colorama\n",
            "  Downloading https://files.pythonhosted.org/packages/44/98/5b86278fbbf250d239ae0ecb724f8572af1c91f4a11edf4d36a206189440/colorama-0.4.4-py2.py3-none-any.whl\n",
            "Requirement already satisfied: typing-extensions; python_version < \"3.8\" in /usr/local/lib/python3.7/dist-packages (from JPype1>=0.7.0->konlpy) (3.7.4.3)\n",
            "Requirement already satisfied: six>=1.10.0 in /usr/local/lib/python3.7/dist-packages (from tweepy>=3.7.0->konlpy) (1.15.0)\n",
            "Requirement already satisfied: requests-oauthlib>=0.7.0 in /usr/local/lib/python3.7/dist-packages (from tweepy>=3.7.0->konlpy) (1.3.0)\n",
            "Requirement already satisfied: requests[socks]>=2.11.1 in /usr/local/lib/python3.7/dist-packages (from tweepy>=3.7.0->konlpy) (2.23.0)\n",
            "Requirement already satisfied: oauthlib>=3.0.0 in /usr/local/lib/python3.7/dist-packages (from requests-oauthlib>=0.7.0->tweepy>=3.7.0->konlpy) (3.1.0)\n",
            "Requirement already satisfied: certifi>=2017.4.17 in /usr/local/lib/python3.7/dist-packages (from requests[socks]>=2.11.1->tweepy>=3.7.0->konlpy) (2020.12.5)\n",
            "Requirement already satisfied: urllib3!=1.25.0,!=1.25.1,<1.26,>=1.21.1 in /usr/local/lib/python3.7/dist-packages (from requests[socks]>=2.11.1->tweepy>=3.7.0->konlpy) (1.24.3)\n",
            "Requirement already satisfied: chardet<4,>=3.0.2 in /usr/local/lib/python3.7/dist-packages (from requests[socks]>=2.11.1->tweepy>=3.7.0->konlpy) (3.0.4)\n",
            "Requirement already satisfied: idna<3,>=2.5 in /usr/local/lib/python3.7/dist-packages (from requests[socks]>=2.11.1->tweepy>=3.7.0->konlpy) (2.10)\n",
            "Requirement already satisfied: PySocks!=1.5.7,>=1.5.6; extra == \"socks\" in /usr/local/lib/python3.7/dist-packages (from requests[socks]>=2.11.1->tweepy>=3.7.0->konlpy) (1.7.1)\n",
            "Installing collected packages: JPype1, beautifulsoup4, colorama, konlpy\n",
            "  Found existing installation: beautifulsoup4 4.6.3\n",
            "    Uninstalling beautifulsoup4-4.6.3:\n",
            "      Successfully uninstalled beautifulsoup4-4.6.3\n",
            "Successfully installed JPype1-1.2.1 beautifulsoup4-4.6.0 colorama-0.4.4 konlpy-0.5.2\n",
            "Drive already mounted at /content/drive; to attempt to forcibly remount, call drive.mount(\"/content/drive\", force_remount=True).\n",
            "\n",
            "WARNING: apt does not have a stable CLI interface. Use with caution in scripts.\n",
            "\n"
          ],
          "name": "stdout"
        }
      ]
    },
    {
      "cell_type": "markdown",
      "metadata": {
        "id": "2kT50M7A33xO"
      },
      "source": [
        "1. 라이브러리 로딩\n"
      ]
    },
    {
      "cell_type": "code",
      "metadata": {
        "id": "-1GtO4io3qty"
      },
      "source": [
        "import re\n",
        "import os\n",
        "import sys\n",
        "import pandas as pd\n",
        "import numpy as np\n",
        "import tensorflow as tf\n",
        "import json\n",
        "\n",
        "# from pykospacing import spacing\n",
        "from konlpy.tag import Kkma\n",
        "from konlpy.tag import Okt\n",
        "from tqdm.notebook import tqdm\n",
        "import matplotlib.pyplot as plt\n",
        "from matplotlib import font_manager, rc\n",
        "# import soynlp\n",
        "import nltk\n",
        "\n",
        "kkma = Kkma()\n",
        "okt = Okt()\n",
        "plt.rc('font', family='NanumBarunGothic') "
      ],
      "execution_count": 5,
      "outputs": []
    },
    {
      "cell_type": "markdown",
      "metadata": {
        "id": "Mfv5jCFiPeVF"
      },
      "source": [
        "Json 파싱작업\n"
      ]
    },
    {
      "cell_type": "code",
      "metadata": {
        "colab": {
          "base_uri": "https://localhost:8080/",
          "height": 262
        },
        "id": "le6HDQnDPb5e",
        "outputId": "0b0b58ff-f109-45aa-e66d-a46dcd1a88d0"
      },
      "source": [
        "path = '/content/drive/MyDrive/Colab Notebooks/nlp/txtTojson.txt'\n",
        "\n",
        "#txt 파일 읽어서 ->  ,] 나오면 하나의 json 형식으로 만든다.\n",
        "\n",
        "with open(path) as f:\n",
        "    contents = f.read()\n",
        "\n",
        "index = 0\n",
        "count = 0\n",
        "jsonList = []\n",
        "\n",
        "print(len(contents))\n",
        "\n",
        "while True:\n",
        "  temp = contents[index:index+2]\n",
        "  if temp == '],':\n",
        "    jsonList.append(contents[count:index+1])\n",
        "    count = index+2\n",
        "  index +=1\n",
        "\n",
        "  #break\n",
        "  if len(contents) == index +1:\n",
        "    break \n",
        "\n",
        "#jsonList 마다 json 형식으로 바꾸어서 저장 후 \n",
        "jsonListSize = len(jsonList)\n",
        "print(jsonListSize)\n",
        "\n",
        "path = '/content/train_data/'\n",
        "\n",
        "ReviewJson = []\n",
        "for i in range(jsonListSize):\n",
        "  ReviewJson.append(json.loads(jsonList[i]))\n",
        "\n",
        "  #Train Data Json 형식으로 저장\n",
        "  name = \"t\"+ str(i) + '.json'\n",
        "  with open(path + name , 'w', encoding='utf-8') as make_file:\n",
        "\n",
        "    json.dump(ReviewJson[i], make_file, indent=\"\\t\", ensure_ascii = False)"
      ],
      "execution_count": 4,
      "outputs": [
        {
          "output_type": "stream",
          "text": [
            "26723382\n"
          ],
          "name": "stdout"
        },
        {
          "output_type": "error",
          "ename": "KeyboardInterrupt",
          "evalue": "ignored",
          "traceback": [
            "\u001b[0;31m---------------------------------------------------------------------------\u001b[0m",
            "\u001b[0;31mKeyboardInterrupt\u001b[0m                         Traceback (most recent call last)",
            "\u001b[0;32m<ipython-input-4-29cf6a6d3ab6>\u001b[0m in \u001b[0;36m<module>\u001b[0;34m()\u001b[0m\n\u001b[1;32m     13\u001b[0m \u001b[0;34m\u001b[0m\u001b[0m\n\u001b[1;32m     14\u001b[0m \u001b[0;32mwhile\u001b[0m \u001b[0;32mTrue\u001b[0m\u001b[0;34m:\u001b[0m\u001b[0;34m\u001b[0m\u001b[0;34m\u001b[0m\u001b[0m\n\u001b[0;32m---> 15\u001b[0;31m   \u001b[0mtemp\u001b[0m \u001b[0;34m=\u001b[0m \u001b[0mcontents\u001b[0m\u001b[0;34m[\u001b[0m\u001b[0mindex\u001b[0m\u001b[0;34m:\u001b[0m\u001b[0mindex\u001b[0m\u001b[0;34m+\u001b[0m\u001b[0;36m2\u001b[0m\u001b[0;34m]\u001b[0m\u001b[0;34m\u001b[0m\u001b[0;34m\u001b[0m\u001b[0m\n\u001b[0m\u001b[1;32m     16\u001b[0m   \u001b[0;32mif\u001b[0m \u001b[0mtemp\u001b[0m \u001b[0;34m==\u001b[0m \u001b[0;34m'],'\u001b[0m\u001b[0;34m:\u001b[0m\u001b[0;34m\u001b[0m\u001b[0;34m\u001b[0m\u001b[0m\n\u001b[1;32m     17\u001b[0m     \u001b[0mjsonList\u001b[0m\u001b[0;34m.\u001b[0m\u001b[0mappend\u001b[0m\u001b[0;34m(\u001b[0m\u001b[0mcontents\u001b[0m\u001b[0;34m[\u001b[0m\u001b[0mcount\u001b[0m\u001b[0;34m:\u001b[0m\u001b[0mindex\u001b[0m\u001b[0;34m+\u001b[0m\u001b[0;36m1\u001b[0m\u001b[0;34m]\u001b[0m\u001b[0;34m)\u001b[0m\u001b[0;34m\u001b[0m\u001b[0;34m\u001b[0m\u001b[0m\n",
            "\u001b[0;31mKeyboardInterrupt\u001b[0m: "
          ]
        }
      ]
    },
    {
      "cell_type": "markdown",
      "metadata": {
        "id": "TP2txZgkPdzy"
      },
      "source": [
        ""
      ]
    },
    {
      "cell_type": "markdown",
      "metadata": {
        "id": "0K072aXa5Bn6"
      },
      "source": [
        "2.전처리 과정"
      ]
    },
    {
      "cell_type": "code",
      "metadata": {
        "colab": {
          "base_uri": "https://localhost:8080/",
          "height": 167,
          "referenced_widgets": [
            "8fd707a40b4440a2b1b7fdf07b70ea61",
            "eb10efa2216b4936b08f4c7443ba8f82",
            "8a4a609014ad429e8d3eb73354413431",
            "50e1a8b10c0a4158ade9d219dbaf1cce",
            "ad9614f3c4dc4c6eb86cb3c33b1c3927",
            "e211c096fd9443bfaea9e0e678184af2",
            "e98dca007343491fb06caef12027a562",
            "e216f1ffeab948248ad6523778fe65bd",
            "93957dbd2ce945338dfd285e0dab1682",
            "d46e37cc169c4790884bbf8e9ef62066",
            "c66582cff437479bb675ce031249ec06",
            "d0aaaab1a7f245d8b542d54a1b5de2f3",
            "67ffd4bdfdd84950a05030398bbbd996",
            "25bec26c2a424a6f931686c9940585c0",
            "6f6182f7905a4f61a0e9920c9c9c80e7",
            "40bc401e221f407796443e90b8b0314d",
            "a5a05cb15c1c4855a15d4e45b2afc1e6",
            "aad3f2e4b3e544eda98b2f04f1660b84",
            "a18ba390347842ca99a350056fccd091",
            "eafbe2a6f128475488a7e45eef845830",
            "5078b481d4a2414296a9c508d0d3723f",
            "92bd6af4358a468082daa61eda903bce",
            "0d46d751e0cb4fda938e17b123978224",
            "0875c7f7830542e2aa808f24f7010f8a"
          ]
        },
        "id": "UJGM0Cln4BbQ",
        "outputId": "8ad4130a-4224-4c61-9206-0dda95884d06"
      },
      "source": [
        "################# 테스트 #################\n",
        "\n",
        "\n",
        "#tokenize 함수\n",
        "def tokenize(doc):\n",
        "  #형태소와 품사를 join\n",
        "  return ['/'.join(t) for t in okt.pos(doc, norm=True, stem=True)]\n",
        "\n",
        "\n",
        "\n",
        "\n",
        "# # 파일 위치\n",
        "# reviewjson_path = '/content/drive/MyDrive/Colab Notebooks/nlp/test.json'\n",
        "firstPath = '/content/train_data/t0.json'\n",
        "\n",
        "df = pd.read_json(firstPath)\n",
        "\n",
        "\n",
        "#dataFrame Concatnation\n",
        "#jsonListSize\n",
        "for i in tqdm(range(1,500), desc=\"Json Data 합치기\"):\n",
        "  jsonPath = '/content/train_data/t' + str(i) + '.json'\n",
        "   \n",
        "  dfTemp = pd.read_json(jsonPath)\n",
        "  df = pd.concat([df,dfTemp], ignore_index=True)\n",
        "\n",
        "\n",
        "\n",
        "\n",
        "#review list 로 변환\n",
        "newData = []\n",
        "for i in tqdm(range(len(df)), desc=\"Tokenize 과정\"):\n",
        "  newData.append([df.text[i], df.avgStar[i]])\n",
        "\n",
        "#tokenize 과정\n",
        "new_docs = [(tokenize(row[0]), row[1]) for row in tqdm(newData)]\n",
        "\n",
        "\n",
        "# print(new_docs)\n",
        "\n",
        "\n",
        "################# 테스트 #################\n",
        "\n",
        "\n"
      ],
      "execution_count": 13,
      "outputs": [
        {
          "output_type": "display_data",
          "data": {
            "application/vnd.jupyter.widget-view+json": {
              "model_id": "8fd707a40b4440a2b1b7fdf07b70ea61",
              "version_minor": 0,
              "version_major": 2
            },
            "text/plain": [
              "HBox(children=(FloatProgress(value=0.0, description='Json Data 합치기', max=499.0, style=ProgressStyle(descriptio…"
            ]
          },
          "metadata": {
            "tags": []
          }
        },
        {
          "output_type": "stream",
          "text": [
            "\n"
          ],
          "name": "stdout"
        },
        {
          "output_type": "display_data",
          "data": {
            "application/vnd.jupyter.widget-view+json": {
              "model_id": "93957dbd2ce945338dfd285e0dab1682",
              "version_minor": 0,
              "version_major": 2
            },
            "text/plain": [
              "HBox(children=(FloatProgress(value=0.0, description='Tokenize 과정', max=35939.0, style=ProgressStyle(descriptio…"
            ]
          },
          "metadata": {
            "tags": []
          }
        },
        {
          "output_type": "stream",
          "text": [
            "\n"
          ],
          "name": "stdout"
        },
        {
          "output_type": "display_data",
          "data": {
            "application/vnd.jupyter.widget-view+json": {
              "model_id": "a5a05cb15c1c4855a15d4e45b2afc1e6",
              "version_minor": 0,
              "version_major": 2
            },
            "text/plain": [
              "HBox(children=(FloatProgress(value=0.0, max=35939.0), HTML(value='')))"
            ]
          },
          "metadata": {
            "tags": []
          }
        },
        {
          "output_type": "stream",
          "text": [
            "\n"
          ],
          "name": "stdout"
        }
      ]
    },
    {
      "cell_type": "code",
      "metadata": {
        "colab": {
          "base_uri": "https://localhost:8080/",
          "height": 771
        },
        "id": "_JYy7EgZ5S1Y",
        "outputId": "c33158c0-75c3-4821-8359-231db6527bd8"
      },
      "source": [
        "#토큰 구하기\n",
        "tokens = [t for d in new_docs for t in d[0]]\n",
        "print(\"토큰개수:\", len(tokens))\n",
        "# print(t okens)\n",
        "\n",
        "#nltk 를 통한 전처리\n",
        "text = nltk.Text(tokens, name='NMSC')\n",
        "\n",
        "#토큰개수\n",
        "print(len(text.tokens))\n",
        "\n",
        "#중복을 제외한 토큰개수\n",
        "print(len(set(text.tokens)))\n",
        "\n",
        "#출력빈도가 높은 상위 토큰 10개\n",
        "print(text.vocab().most_common(20))\n",
        "\n",
        "#명사 출력\n",
        "# noun = []\n",
        "# noun = [t for d in new_docs for t in d[0] if 'Noun' in t]\n",
        "\n",
        "# test = nltk.Text(noun, name='NMSC')\n",
        "# print(len(set(test.tokens)))\n",
        "# print(test.vocab().most_common(20))\n",
        "\n",
        "\n",
        "# print(noun)\n",
        "\n",
        "\n",
        "\n",
        "\n",
        "#상위 토큰 10개 matpolib 으로 출력\n",
        "plt.figure(figsize=(20,10))\n",
        "text.plot(50)\n"
      ],
      "execution_count": 14,
      "outputs": [
        {
          "output_type": "stream",
          "text": [
            "토큰개수: 2841391\n",
            "2841391\n",
            "15057\n",
            "[('하다/Verb', 119134), ('./Punctuation', 67729), ('이/Josa', 61117), ('\\r\\n/Foreign', 58365), ('상담/Noun', 48728), ('수술/Noun', 40992), ('은/Josa', 39471), ('도/Josa', 38300), ('에/Josa', 38122), ('님/Suffix', 33927), ('가/Josa', 31200), ('을/Josa', 29232), ('원장/Noun', 25303), ('해주다/Verb', 23875), ('받다/Verb', 23576), ('는/Josa', 23032), ('병원/Noun', 21840), ('같다/Adjective', 21365), ('있다/Adjective', 21225), ('../Punctuation', 17600)]\n"
          ],
          "name": "stdout"
        },
        {
          "output_type": "display_data",
          "data": {
            "image/png": "[encoded data removed]",
            "text/plain": [
              "<Figure size 1440x720 with 1 Axes>"
            ]
          },
          "metadata": {
            "tags": [],
            "needs_background": "light"
          }
        }
      ]
    },
    {
      "cell_type": "code",
      "metadata": {
        "id": "EaUVCGmS-nIN",
        "colab": {
          "base_uri": "https://localhost:8080/"
        },
        "outputId": "f9a04b38-142d-47aa-9719-d7fb748e7122"
      },
      "source": [
        " \n",
        "#모델을 만들기 위해 벡터화\n",
        "#문서 집합에서 단어 토큰을 생성하고 각 단어의 수를 세어 BOW(Bag of Words) 인코딩한 벡터를 만드는 역할\n",
        "FREQUENCY_COUNT = 300;\n",
        "selected_words = [f[0] for f in text.vocab().most_common(FREQUENCY_COUNT)]\n",
        "\n",
        "#단어리스트 문서에서 상위 1000개들중 포함되는 단어들이 개수\n",
        "def term_frequency(doc):\n",
        "    return [doc.count(word) for word in selected_words]\n",
        "\n",
        "\n",
        "x_new = [term_frequency(d) for d,_ in new_docs]\n",
        "#라벨(1 or 0)\n",
        "y_new = [c/100 for _,c in new_docs]\n",
        "\n",
        "#float 형으로 형변환\n",
        "x_new = np.asarray(x_new).astype('float32')\n",
        "y_new = np.asarray(y_new).astype('float32')\n",
        "\n",
        "#레이어 구성\n",
        "model = tf.keras.models.Sequential([\n",
        "    tf.keras.layers.Dense(64, activation='relu', input_shape=(FREQUENCY_COUNT,)),\n",
        "    tf.keras.layers.Dense(64, activation='relu'),\n",
        "    tf.keras.layers.Dense(1, activation='sigmoid')\n",
        "])\n",
        "\n",
        "#학습 프로세스 설정\n",
        "model.compile(optimizer=tf.keras.optimizers.RMSprop(lr=0.001),\n",
        "    loss=tf.keras.losses.binary_crossentropy,\n",
        "    metrics=[tf.keras.metrics.binary_accuracy]\n",
        "    )\n",
        "\n",
        "#학습 데이터로 학습\n",
        "model.fit(x_new, y_new, epochs=10, batch_size=512)\n",
        "\n",
        "\n",
        "results = model.evaluate(x_new, y_new)\n",
        "\n",
        "results\n",
        "\n",
        "\n",
        "#모델을 저장해둘수도 있다.\n",
        "model.save('review_model.h5')\n",
        "\n",
        "\n"
      ],
      "execution_count": 15,
      "outputs": [
        {
          "output_type": "stream",
          "text": [
            "Epoch 1/10\n",
            "71/71 [==============================] - 1s 4ms/step - loss: 0.6241 - binary_accuracy: 0.0353\n",
            "Epoch 2/10\n",
            "71/71 [==============================] - 0s 4ms/step - loss: 0.5803 - binary_accuracy: 0.0376\n",
            "Epoch 3/10\n",
            "71/71 [==============================] - 0s 4ms/step - loss: 0.5723 - binary_accuracy: 0.0368\n",
            "Epoch 4/10\n",
            "71/71 [==============================] - 0s 4ms/step - loss: 0.5648 - binary_accuracy: 0.0374\n",
            "Epoch 5/10\n",
            "71/71 [==============================] - 0s 4ms/step - loss: 0.5599 - binary_accuracy: 0.0391\n",
            "Epoch 6/10\n",
            "71/71 [==============================] - 0s 4ms/step - loss: 0.5584 - binary_accuracy: 0.0375\n",
            "Epoch 7/10\n",
            "71/71 [==============================] - 0s 4ms/step - loss: 0.5561 - binary_accuracy: 0.0364\n",
            "Epoch 8/10\n",
            "71/71 [==============================] - 0s 4ms/step - loss: 0.5529 - binary_accuracy: 0.0375\n",
            "Epoch 9/10\n",
            "71/71 [==============================] - 0s 4ms/step - loss: 0.5508 - binary_accuracy: 0.0371\n",
            "Epoch 10/10\n",
            "71/71 [==============================] - 0s 4ms/step - loss: 0.5493 - binary_accuracy: 0.0369\n",
            "1124/1124 [==============================] - 1s 1ms/step - loss: 0.5460 - binary_accuracy: 0.0377\n"
          ],
          "name": "stdout"
        }
      ]
    },
    {
      "cell_type": "code",
      "metadata": {
        "colab": {
          "base_uri": "https://localhost:8080/"
        },
        "id": "loa7VsduTIF4",
        "outputId": "93134689-23dd-42d5-bc4b-f709996b9a45"
      },
      "source": [
        "\n",
        "# 모델 불러오기\n",
        "#from keras.models import load_model\n",
        "#model = load_model('review_model.h5')\n",
        "\n",
        "\n",
        "\n",
        "def predict_review(review):\n",
        "    token = tokenize(review)\n",
        "    tfq = term_frequency(token)\n",
        "    data = np.expand_dims(np.asarray(tfq).astype('float32'), axis=0)\n",
        "    score = float(model.predict(data))\n",
        "\n",
        "    if score > 0.5:\n",
        "        print(f\"{review} ==> 긍정 ({round(score*100)}%)\")\n",
        "    else:\n",
        "        print(f\"{review} ==> 부정 ({round((1-score)*100)}%)\")\n",
        "\n",
        "\n",
        "predict_review(\"유튜브에서 보던 느낌 그대로 상담 하세요 김태규 원장님. 그러나 자신만의 확고한 철학이 잇으셔서 그런지 타 병원 상담때와 대치되는 말을 몇개 하심 제 피부탄력이나 턱모양등... 결정적으로 후기사진이 하나 같이 몽달귀신 st 턱이어서 별로엿음\")\n",
        "predict_review('안면윤곽 상담받았어요 생각보다 병원에 사람이 많아요 김태규 원장님과 상담받았고 수술비용은 다른 병원에 바해서 조금 싼거같습니다. 원장님은 전문성 있어보였고 사람이 많아서 대기시간이 갈고 오래 기다린거 외엔 괜찮았습니다.')\n",
        "predict_review('잘모르겠음 여러곳상담다녀봤는데 특별히다른거없는 그냥 완전평범한 성형외과임 근데 상담을 짧게함 대체 몇백들여서 얼굴만드는수술하는데 30분도안되는 상담받고서 어떻게하겠다는거임? 상담만받고 거른거같음 . . .')\n",
        "predict_review('이 병원 너무 별로네요 왜이리 수술이라던지 여드름 치료가 별로인지 모르겠어오 어떻게 하겠다는거에요')\n",
        "predict_review('후기보니까 눈 쪽 괜찮게 하시는 것 같아서 찾아갔어요. 상담도 친절하시고 나쁘지 않았는데 지금 수술 후 4주 차인데 붓기 빠질 기미가 안보이네요.')\n",
        "predict_review('후기보니까 눈 쪽은 괜찮게 하시는 것 같아서 찾아갔어요. 상담도 친절하시고나쁘지 않았는데 전후 피드백이나 디테일한 부분른 별로네요 지금 수술 후 4주 차인데 붓기 빠질 기미도 안보이네요.')"
      ],
      "execution_count": 22,
      "outputs": [
        {
          "output_type": "stream",
          "text": [
            "유튜브에서 보던 느낌 그대로 상담 하세요 김태규 원장님. 그러나 자신만의 확고한 철학이 잇으셔서 그런지 타 병원 상담때와 대치되는 말을 몇개 하심 제 피부탄력이나 턱모양등... 결정적으로 후기사진이 하나 같이 몽달귀신 st 턱이어서 별로엿음 ==> 긍정 (71%)\n",
            "안면윤곽 상담받았어요 생각보다 병원에 사람이 많아요 김태규 원장님과 상담받았고 수술비용은 다른 병원에 바해서 조금 싼거같습니다. 원장님은 전문성 있어보였고 사람이 많아서 대기시간이 갈고 오래 기다린거 외엔 괜찮았습니다. ==> 긍정 (64%)\n",
            "잘모르겠음 여러곳상담다녀봤는데 특별히다른거없는 그냥 완전평범한 성형외과임 근데 상담을 짧게함 대체 몇백들여서 얼굴만드는수술하는데 30분도안되는 상담받고서 어떻게하겠다는거임? 상담만받고 거른거같음 . . . ==> 부정 (52%)\n",
            "이 병원 너무 별로네요 왜이리 수술이라던지 여드름 치료가 별로인지 모르겠어오 어떻게 하겠다는거에요 ==> 부정 (74%)\n",
            "후기보니까 눈 쪽 괜찮게 하시는 것 같아서 찾아갔어요. 상담도 친절하시고 나쁘지 않았는데 지금 수술 후 4주 차인데 붓기 빠질 기미가 안보이네요. ==> 긍정 (59%)\n",
            "후기보니까 눈 쪽은 괜찮게 하시는 것 같아서 찾아갔어요. 상담도 친절하시고나쁘지 않았는데 전후 피드백이나 디테일한 부분른 별로네요 지금 수술 후 4주 차인데 붓기 빠질 기미도 안보이네요. ==> 긍정 (56%)\n"
          ],
          "name": "stdout"
        }
      ]
    },
    {
      "cell_type": "code",
      "metadata": {
        "colab": {
          "base_uri": "https://localhost:8080/"
        },
        "id": "_aGSmtCorshe",
        "outputId": "fc33c429-a9f5-46c9-95d4-ba5ddea1af14"
      },
      "source": [
        ""
      ],
      "execution_count": 21,
      "outputs": [
        {
          "output_type": "stream",
          "text": [
            "0.5913331508636475\n",
            "후기보니까 눈 쪽 괜찮게 하시는 것 같아서 찾아갔어요. 상담도 친절하시고 나쁘지 않았는데 지금 수술 후 4주 차인데 붓기 빠질 기미가 안보이네요. ==> 긍정 (59%)\n",
            "0.5621336698532104\n",
            "후기보니까 눈 쪽은 괜찮게 하시는 것 같아서 찾아갔어요. 상담도 친절하시고나쁘지 않았는데 전후 피드백이나 디테일한 부분른 별로네요 지금 수술 후 4주 차인데 붓기 빠질 기미도 안보이네요. ==> 긍정 (56%)\n"
          ],
          "name": "stdout"
        }
      ]
    }
  ]
}