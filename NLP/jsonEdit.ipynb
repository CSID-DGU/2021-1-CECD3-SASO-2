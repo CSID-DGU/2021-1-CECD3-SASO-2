{
  "nbformat": 4,
  "nbformat_minor": 0,
  "metadata": {
    "colab": {
      "name": "jsonEdit.ipynb",
      "provenance": [],
      "collapsed_sections": [],
      "mount_file_id": "1IqLfTMkuBFkUq4f3vSVXDTJ-4Cj2C12l",
      "authorship_tag": "ABX9TyMSp4mGROY583HivmPEqjAd",
      "include_colab_link": true
    },
    "kernelspec": {
      "name": "python3",
      "display_name": "Python 3"
    },
    "language_info": {
      "name": "python"
    }
  },
  "cells": [
    {
      "cell_type": "markdown",
      "metadata": {
        "id": "view-in-github",
        "colab_type": "text"
      },
      "source": [
        "<a href=\"https://colab.research.google.com/github/CSID-DGU/2021-1-CECD3-SASO-2/blob/master/NLP/jsonEdit.ipynb\" target=\"_parent\"><img src=\"https://colab.research.google.com/assets/colab-badge.svg\" alt=\"Open In Colab\"/></a>"
      ]
    },
    {
      "cell_type": "code",
      "metadata": {
        "colab": {
          "base_uri": "https://localhost:8080/"
        },
        "id": "nXwfDJ6WkzCm",
        "outputId": "2168dd6e-5fc3-409f-ac28-279e2b5b33b2"
      },
      "source": [
        "from google.colab import drive\n",
        "# drive.mount('/content/drive')\n",
        "import pandas as pd\n",
        "\n",
        "\n",
        "path = '/content/drive/MyDrive/Colab Notebooks/nlp/txtTojson.txt'\n",
        "\n",
        "\n",
        "print(path)\n",
        "\n",
        "#첫번째에 [ 추가, 마지막 에 , 제거 후 ] 추가\n",
        "\n",
        "\n"
      ],
      "execution_count": null,
      "outputs": [
        {
          "output_type": "stream",
          "text": [
            "/content/drive/MyDrive/Colab Notebooks/nlp/txtTojson.txt\n"
          ],
          "name": "stdout"
        }
      ]
    },
    {
      "cell_type": "code",
      "metadata": {
        "colab": {
          "base_uri": "https://localhost:8080/"
        },
        "id": "wDu_WvKfoWAG",
        "outputId": "0d166061-5fdb-43c5-a191-a3d584e1d5ca"
      },
      "source": [
        "#txt 파일 읽어서 ->  ,] 나오면 하나의 json 형식으로 만든다.\n",
        "\n",
        "with open(path) as f:\n",
        "    contents = f.read()\n",
        "\n",
        "index = 0\n",
        "count = 0\n",
        "jsonList = []\n",
        "\n",
        "print(len(contents))\n",
        "\n",
        "while True:\n",
        "  temp = contents[index:index+2]\n",
        "  if temp == '],':\n",
        "    jsonList.append(contents[count:index+1])\n",
        "    count = index+2\n",
        "  index +=1\n",
        "\n",
        "  #break\n",
        "  if len(contents) == index +1:\n",
        "    break \n",
        "\n",
        "# print(len(jsonList))\n",
        "# jsonListSize = len(jsonList)\n"
      ],
      "execution_count": null,
      "outputs": [
        {
          "output_type": "stream",
          "text": [
            "26723382\n"
          ],
          "name": "stdout"
        }
      ]
    },
    {
      "cell_type": "code",
      "metadata": {
        "colab": {
          "base_uri": "https://localhost:8080/"
        },
        "id": "gqeusyBX2AoC",
        "outputId": "7430c1ed-2e1b-4c0e-8db9-7d6d5f17a4ce"
      },
      "source": [
        "#jsonList 마다 json 형식으로 바꾸어서 저장 후 \n",
        "import json\n",
        "\n",
        "\n",
        "jsonListSize = len(jsonList)\n",
        "print(jsonListSize)\n",
        "\n",
        "ReviewJson = []\n",
        "for i in range(jsonListSize):\n",
        "  ReviewJson.append(json.loads(jsonList[i]))\n",
        "\n",
        "  #Train Data Json 형식으로 저장\n",
        "  name = str(i) + '.json'\n",
        "  with open(path + name , 'w', encoding='utf-8') as make_file:\n",
        "\n",
        "    json.dump(ReviewJson[i], make_file, indent=\"\\t\", ensure_ascii = False)\n",
        "\n",
        "\n"
      ],
      "execution_count": null,
      "outputs": [
        {
          "output_type": "stream",
          "text": [
            "1163\n"
          ],
          "name": "stdout"
        }
      ]
    },
    {
      "cell_type": "markdown",
      "metadata": {
        "id": "bj6t28A-38sq"
      },
      "source": [
        ""
      ]
    }
  ]
}