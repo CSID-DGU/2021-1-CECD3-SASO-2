{
  "nbformat": 4,
  "nbformat_minor": 0,
  "metadata": {
    "colab": {
      "name": "jsonEdit.ipynb",
      "provenance": [],
      "collapsed_sections": [],
      "authorship_tag": "ABX9TyOZGkSMdysg+pRvY1FrACvv",
      "include_colab_link": true
    },
    "kernelspec": {
      "name": "python3",
      "display_name": "Python 3"
    },
    "language_info": {
      "name": "python"
    }
  },
  "cells": [
    {
      "cell_type": "markdown",
      "metadata": {
        "id": "view-in-github",
        "colab_type": "text"
      },
      "source": [
        "<a href=\"https://colab.research.google.com/github/CSID-DGU/2021-1-CECD3-SASO-2/blob/master/NLP/jsonEdit.ipynb\" target=\"_parent\"><img src=\"https://colab.research.google.com/assets/colab-badge.svg\" alt=\"Open In Colab\"/></a>"
      ]
    },
    {
      "cell_type": "code",
      "metadata": {
        "colab": {
          "base_uri": "https://localhost:8080/"
        },
        "id": "nXwfDJ6WkzCm",
        "outputId": "2168dd6e-5fc3-409f-ac28-279e2b5b33b2"
      },
      "source": [
        "from google.colab import drive\n",
        "# drive.mount('/content/drive')\n",
        "import pandas as pd\n",
        "\n",
        "\n",
        "path = '/content/drive/MyDrive/Colab Notebooks/nlp/txtTojson.txt'\n",
        "\n",
        "\n",
        "print(path)\n",
        "\n",
        "#첫번째에 [ 추가, 마지막 에 , 제거 후 ] 추가\n",
        "\n",
        "\n"
      ],
      "execution_count": null,
      "outputs": [
        {
          "output_type": "stream",
          "text": [
            "/content/drive/MyDrive/Colab Notebooks/nlp/txtTojson.txt\n"
          ],
          "name": "stdout"
        }
      ]
    },
    {
      "cell_type": "code",
      "metadata": {
        "colab": {
          "base_uri": "https://localhost:8080/"
        },
        "id": "wDu_WvKfoWAG",
        "outputId": "0d166061-5fdb-43c5-a191-a3d584e1d5ca"
      },
      "source": [
        "#txt 파일 읽어서 ->  ,] 나오면 하나의 json 형식으로 만든다.\n",
        "\n",
        "with open(path) as f:\n",
        "    contents = f.read()\n",
        "\n",
        "index = 0\n",
        "count = 0\n",
        "jsonList = []\n",
        "\n",
        "print(len(contents))\n",
        "\n",
        "while True:\n",
        "  temp = contents[index:index+2]\n",
        "  if temp == '],':\n",
        "    jsonList.append(contents[count:index+1])\n",
        "    count = index+2\n",
        "  index +=1\n",
        "\n",
        "  #break\n",
        "  if len(contents) == index +1:\n",
        "    break \n",
        "\n",
        "# print(len(jsonList))\n",
        "# jsonListSize = len(jsonList)\n"
      ],
      "execution_count": 66,
      "outputs": [
        {
          "output_type": "stream",
          "text": [
            "26723382\n"
          ],
          "name": "stdout"
        }
      ]
    },
    {
      "cell_type": "code",
      "metadata": {
        "colab": {
          "base_uri": "https://localhost:8080/"
        },
        "id": "gqeusyBX2AoC",
        "outputId": "9f4e0e20-49c2-4e92-a334-8b9894da07b2"
      },
      "source": [
        "#jsonList 마다 json 형식으로 바꾸어서 저장 후 \n",
        "import json\n",
        "\n",
        "\n",
        "jsonListSize = len(jsonList)\n",
        "print(jsonListSize)\n",
        "\n",
        "ReviewJson = []\n",
        "for i in range(jsonListSize):\n",
        "  ReviewJson.append(json.loads(jsonList[i]))\n",
        "\n",
        "\n",
        "#ReviewJson 에는 Json. 형식 있음 \n",
        "\n",
        "\n"
      ],
      "execution_count": 78,
      "outputs": [
        {
          "output_type": "stream",
          "text": [
            "1163\n"
          ],
          "name": "stdout"
        }
      ]
    },
    {
      "cell_type": "markdown",
      "metadata": {
        "id": "bj6t28A-38sq"
      },
      "source": [
        ""
      ]
    },
    {
      "cell_type": "code",
      "metadata": {
        "colab": {
          "base_uri": "https://localhost:8080/"
        },
        "id": "xbGW_nuB-tIv",
        "outputId": "10dd336f-c6cb-428c-9861-85693bb754e5"
      },
      "source": [
        "!ls /content/drive/MyDrive\n",
        "\n",
        "\n"
      ],
      "execution_count": 93,
      "outputs": [
        {
          "output_type": "stream",
          "text": [
            " 컴구\n",
            " 자구복사\n",
            " 2016112146_장준표_취득분류표.pdf\n",
            "'강제신청(2016112146,장준표).zip'\n",
            " 강제수강신청_2016112146_장준표.zip\n",
            " 2016112146_장준표.zip\n",
            "'2017년1월12일 유럽유행 (1).zip'\n",
            "'2017년1월12일 유럽유행.zip'\n",
            " 20180613_141125.jpg\n",
            " 20180613_141140.jpg\n",
            " 20180613_141839.jpg\n",
            " 20180613_141851.jpg\n",
            " 20180613_141854.jpg\n",
            " 20180613_141859.jpg\n",
            "'20180613_141902(0).jpg'\n",
            " 20180613_141902.jpg\n",
            " 20180613_141935.jpg\n",
            " 20180613_142601.jpg\n",
            " 20180613_142622.jpg\n",
            " 20180613_142623.jpg\n",
            " 20180613_145002.jpg\n",
            " 20180613_152336.jpg\n",
            " 20180613_152337.jpg\n",
            " 20180613_152342.jpg\n",
            " 20180613_152343.jpg\n",
            " 20180613_152344.jpg\n",
            " 20180613_152346.jpg\n",
            " 20180613_152759.jpg\n",
            " 20180613_152803.jpg\n",
            " 20180613_153517.jpg\n",
            " 20180613_153518.jpg\n",
            " 20180613_153519.jpg\n",
            " 20180613_153521.jpg\n",
            " 20180613_154220.jpg\n",
            " 20180613_154224.jpg\n",
            " 20180613_154431.jpg\n",
            " 20180613_154433.jpg\n",
            "'2020 겨울 캡스톤디자인 밸류업 프로그램 참가신청서_AI 면접단.hwp'\n",
            "'2020 겨울 캡스톤디자인 밸류업 프로그램 팀별 계획서_AI 면접단.pptx'\n",
            "'충남보령 사업계획 (2021.02.10.) (Edit).pptx'\n",
            "'5.18 week11.txt'\n",
            " 5.30.txt\n",
            " c++언어\n",
            "'Colab Notebooks'\n",
            " DNA.ipynb\n",
            " 종수여행.jpg\n",
            " 성훈여행.jpg\n",
            "'SW비즈니스와 창업'\n",
            " temp_1490848189318.2126175846\n",
            "'Wearable Device.show'\n",
            " 드나스터디.zip\n"
          ],
          "name": "stdout"
        }
      ]
    },
    {
      "cell_type": "code",
      "metadata": {
        "id": "J4rbtmnL_JMR"
      },
      "source": [
        ""
      ],
      "execution_count": null,
      "outputs": []
    }
  ]
}