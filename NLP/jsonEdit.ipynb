{
  "nbformat": 4,
  "nbformat_minor": 0,
  "metadata": {
    "colab": {
      "name": "jsonEdit.ipynb",
      "provenance": [],
      "collapsed_sections": [],
      "mount_file_id": "1IqLfTMkuBFkUq4f3vSVXDTJ-4Cj2C12l",
      "authorship_tag": "ABX9TyMSpAwOab69YqqtPAgNoidR",
      "include_colab_link": true
    },
    "kernelspec": {
      "name": "python3",
      "display_name": "Python 3"
    },
    "language_info": {
      "name": "python"
    }
  },
  "cells": [
    {
      "cell_type": "markdown",
      "metadata": {
        "id": "view-in-github",
        "colab_type": "text"
      },
      "source": [
        "<a href=\"https://colab.research.google.com/github/CSID-DGU/2021-1-CECD3-SASO-2/blob/master/NLP/jsonEdit.ipynb\" target=\"_parent\"><img src=\"https://colab.research.google.com/assets/colab-badge.svg\" alt=\"Open In Colab\"/></a>"
      ]
    },
    {
      "cell_type": "code",
      "metadata": {
        "colab": {
          "base_uri": "https://localhost:8080/"
        },
        "id": "nXwfDJ6WkzCm",
        "outputId": "8e6f600c-234a-4ec5-8e2e-faf08ce2a536"
      },
      "source": [
        "from google.colab import drive\n",
        "drive.mount('/content/drive')\n",
        "import pandas as pd\n",
        "\n",
        "\n",
        "path = '/content/drive/MyDrive/Colab Notebooks/nlp/txtTojson.txt'\n",
        "\n",
        "\n",
        "print(path)\n",
        "\n",
        "#첫번째에 [ 추가, 마지막 에 , 제거 후 ] 추가\n",
        "\n",
        "\n"
      ],
      "execution_count": null,
      "outputs": [
        {
          "output_type": "stream",
          "text": [
            "Drive already mounted at /content/drive; to attempt to forcibly remount, call drive.mount(\"/content/drive\", force_remount=True).\n",
            "/content/drive/MyDrive/Colab Notebooks/nlp/txtTojson.txt\n"
          ],
          "name": "stdout"
        }
      ]
    },
    {
      "cell_type": "code",
      "metadata": {
        "colab": {
          "base_uri": "https://localhost:8080/"
        },
        "id": "wDu_WvKfoWAG",
        "outputId": "0fc93484-ff74-40f6-9ee3-ed6c0617508d"
      },
      "source": [
        "#txt 파일 읽어서 ->  ,] 나오면 하나의 json 형식으로 만든다.\n",
        "\n",
        "with open(path) as f:\n",
        "    contents = f.read()\n",
        "\n",
        "index = 0\n",
        "count = 0\n",
        "jsonList = []\n",
        "\n",
        "print(len(contents))\n",
        "\n",
        "while True:\n",
        "  temp = contents[index:index+2]\n",
        "  if temp == '],':\n",
        "    jsonList.append(contents[count:index+1])\n",
        "    count = index+2\n",
        "  index +=1\n",
        "\n",
        "  #break\n",
        "  if len(contents) == index +1:\n",
        "    break \n",
        "\n",
        "# print(len(jsonList))\n",
        "# jsonListSize = len(jsonList)\n"
      ],
      "execution_count": null,
      "outputs": [
        {
          "output_type": "stream",
          "text": [
            "26723382\n"
          ],
          "name": "stdout"
        }
      ]
    },
    {
      "cell_type": "code",
      "metadata": {
        "colab": {
          "base_uri": "https://localhost:8080/"
        },
        "id": "vGNkpMLMXSN_",
        "outputId": "662a86b7-b2ea-4b01-fc6a-d7b2ef88e795"
      },
      "source": [
        "print(len(jsonList))"
      ],
      "execution_count": null,
      "outputs": [
        {
          "output_type": "stream",
          "text": [
            "1163\n"
          ],
          "name": "stdout"
        }
      ]
    },
    {
      "cell_type": "code",
      "metadata": {
        "colab": {
          "base_uri": "https://localhost:8080/"
        },
        "id": "gqeusyBX2AoC",
        "outputId": "468fadc7-bea0-48db-aa26-f00bbb9176fc"
      },
      "source": [
        "#jsonList 마다 json 형식으로 바꾸어서 저장 후 \n",
        "import json\n",
        "\n",
        "\n",
        "jsonListSize = len(jsonList)\n",
        "print(jsonListSize)\n",
        "\n",
        "ReviewJson = []\n",
        "for i in range(jsonListSize):\n",
        "  ReviewJson.append(json.loads(jsonList[i]))\n",
        "\n",
        "  name = str(i) + '.json'\n",
        "  with open(path + name, 'w', encoding='utf-8') as make_file:\n",
        "\n",
        "    json.dump(ReviewJson[i], make_file, indent=\"\\t\", ensure_ascii = False)\n",
        "\n",
        "\n",
        "#ReviewJson 에는 Json. 형식 있음 \n",
        "\n"
      ],
      "execution_count": null,
      "outputs": [
        {
          "output_type": "stream",
          "text": [
            "1163\n"
          ],
          "name": "stdout"
        }
      ]
    },
    {
      "cell_type": "code",
      "metadata": {
        "id": "K1m8GZ_sXsXr"
      },
      "source": [
        "# print(len(ReviewJson[1]))\n",
        "# print(len(ReviewJson[2]))\n",
        "# print(len(ReviewJson[3]))\n",
        "# print(len(ReviewJson[4]))\n",
        "\n",
        "count = 0\n",
        "\n",
        "for i in range(jsonListSize):\n",
        "  print(len(ReviewJson[i]))\n",
        "  count += len(ReviewJson[i])\n",
        "\n",
        "print(count)\n",
        "\n",
        "# 11만2737 개 의 리뷰\n",
        "ReviewJson[1162]"
      ],
      "execution_count": null,
      "outputs": []
    },
    {
      "cell_type": "markdown",
      "metadata": {
        "id": "6xK7RhuV0ydZ"
      },
      "source": [
        ""
      ]
    },
    {
      "cell_type": "code",
      "metadata": {
        "colab": {
          "base_uri": "https://localhost:8080/"
        },
        "id": "EXhJXurT073Z",
        "outputId": "3c0f35df-1270-4296-8ae0-ad7fd40a4153"
      },
      "source": [
        "import pandas as pd\n",
        "import numpy as np\n",
        "\n",
        "path = '/content/drive/MyDrive/Colab Notebooks/nlp/new_docs_dataFrame.csv'\n",
        "\n",
        "print(path)\n",
        "\n",
        "df = pd.read_csv(path)\n"
      ],
      "execution_count": null,
      "outputs": [
        {
          "output_type": "stream",
          "text": [
            "/content/drive/MyDrive/Colab Notebooks/nlp/new_docs_dataFrame.csv\n"
          ],
          "name": "stdout"
        }
      ]
    },
    {
      "cell_type": "code",
      "metadata": {
        "colab": {
          "base_uri": "https://localhost:8080/"
        },
        "id": "Qd9b9U5W7iRt",
        "outputId": "8ac9c8eb-3bd8-4d26-b257-d25350a70ca5"
      },
      "source": [
        "print(df)\n",
        "\n",
        "listvalue = df.values.tolist()\n",
        "\n",
        "print(listvalue)"
      ],
      "execution_count": null,
      "outputs": [
        {
          "output_type": "stream",
          "text": [
            "        Unnamed: 0                                                  0   1\n",
            "0                0  ['여드름/Noun', '관리/Noun', '는/Josa', '차앤박/Noun', ...  60\n",
            "1                1  ['주근깨/Noun', '가/Josa', '고민/Noun', '이/Suffix', ...  72\n",
            "2                2  ['피부/Noun', '때문/Noun', '에/Josa', '피부/Noun', '관...  64\n",
            "3                3  ['모공/Noun', '치료/Noun', '가/Josa', '우선/Noun', '적...  60\n",
            "4                4  ['여의사/Noun', '선생님/Noun', '이/Josa', '친절하다/Adjec...  80\n",
            "...            ...                                                ...  ..\n",
            "112732      112732  ['슈/Noun', '링크/Noun', '한참/Noun', '행사/Noun', '하...  60\n",
            "112733      112733  ['상담/Noun', '을/Josa', '방도/Noun', '아니다/Adjectiv...  28\n",
            "112734      112734  ['상담/Noun', '해주다/Verb', '코디/Noun', '분/Suffix',...  56\n",
            "112735      112735  ['톡스앤필/Noun', '보다/Josa', '병원/Noun', '인테리어/Noun...  44\n",
            "112736      112736  ['보톡스/Noun', '가/Josa', '효과/Noun', '가/Josa', '적...  76\n",
            "\n",
            "[112737 rows x 3 columns]\n"
          ],
          "name": "stdout"
        },
        {
          "output_type": "stream",
          "text": [
            "IOPub data rate exceeded.\n",
            "The notebook server will temporarily stop sending output\n",
            "to the client in order to avoid crashing it.\n",
            "To change this limit, set the config variable\n",
            "`--NotebookApp.iopub_data_rate_limit`.\n",
            "\n",
            "Current values:\n",
            "NotebookApp.iopub_data_rate_limit=1000000.0 (bytes/sec)\n",
            "NotebookApp.rate_limit_window=3.0 (secs)\n",
            "\n"
          ],
          "name": "stderr"
        }
      ]
    },
    {
      "cell_type": "code",
      "metadata": {
        "colab": {
          "base_uri": "https://localhost:8080/"
        },
        "id": "2h4IfGpW1fe_",
        "outputId": "e0cd477e-da52-461f-ed43-da293864e5fc"
      },
      "source": [
        "from ast import literal_eval\n",
        "\n",
        "# literal_eval(listvalue)\n",
        "\n",
        "size = len(listvalue)\n",
        "print(size)\n",
        "\n",
        "newList = []\n",
        "for i in range(size):\n",
        "  newList.append(literal_eval(listvalue[i][1]))\n",
        "\n",
        "#형용사 출력\n",
        "adj = []\n",
        "adj = [t for d in newList for t in d if 'Adjective' in t]\n",
        "\n"
      ],
      "execution_count": null,
      "outputs": [
        {
          "output_type": "stream",
          "text": [
            "112737\n"
          ],
          "name": "stdout"
        }
      ]
    },
    {
      "cell_type": "code",
      "metadata": {
        "colab": {
          "base_uri": "https://localhost:8080/"
        },
        "id": "sf2C3B-PP5Un",
        "outputId": "e3f33758-bbd9-4a71-de89-57bfc95cdc92"
      },
      "source": [
        "!pip install konlpy"
      ],
      "execution_count": null,
      "outputs": [
        {
          "output_type": "stream",
          "text": [
            "Collecting konlpy\n",
            "\u001b[?25l  Downloading https://files.pythonhosted.org/packages/85/0e/f385566fec837c0b83f216b2da65db9997b35dd675e107752005b7d392b1/konlpy-0.5.2-py2.py3-none-any.whl (19.4MB)\n",
            "\u001b[K     |████████████████████████████████| 19.4MB 40.2MB/s \n",
            "\u001b[?25hCollecting JPype1>=0.7.0\n",
            "\u001b[?25l  Downloading https://files.pythonhosted.org/packages/cd/a5/9781e2ef4ca92d09912c4794642c1653aea7607f473e156cf4d423a881a1/JPype1-1.2.1-cp37-cp37m-manylinux2010_x86_64.whl (457kB)\n",
            "\u001b[K     |████████████████████████████████| 460kB 21.0MB/s \n",
            "\u001b[?25hCollecting colorama\n",
            "  Downloading https://files.pythonhosted.org/packages/44/98/5b86278fbbf250d239ae0ecb724f8572af1c91f4a11edf4d36a206189440/colorama-0.4.4-py2.py3-none-any.whl\n",
            "Requirement already satisfied: numpy>=1.6 in /usr/local/lib/python3.7/dist-packages (from konlpy) (1.19.5)\n",
            "Requirement already satisfied: tweepy>=3.7.0 in /usr/local/lib/python3.7/dist-packages (from konlpy) (3.10.0)\n",
            "Collecting beautifulsoup4==4.6.0\n",
            "\u001b[?25l  Downloading https://files.pythonhosted.org/packages/9e/d4/10f46e5cfac773e22707237bfcd51bbffeaf0a576b0a847ec7ab15bd7ace/beautifulsoup4-4.6.0-py3-none-any.whl (86kB)\n",
            "\u001b[K     |████████████████████████████████| 92kB 6.7MB/s \n",
            "\u001b[?25hRequirement already satisfied: lxml>=4.1.0 in /usr/local/lib/python3.7/dist-packages (from konlpy) (4.2.6)\n",
            "Requirement already satisfied: typing-extensions; python_version < \"3.8\" in /usr/local/lib/python3.7/dist-packages (from JPype1>=0.7.0->konlpy) (3.7.4.3)\n",
            "Requirement already satisfied: requests-oauthlib>=0.7.0 in /usr/local/lib/python3.7/dist-packages (from tweepy>=3.7.0->konlpy) (1.3.0)\n",
            "Requirement already satisfied: six>=1.10.0 in /usr/local/lib/python3.7/dist-packages (from tweepy>=3.7.0->konlpy) (1.15.0)\n",
            "Requirement already satisfied: requests[socks]>=2.11.1 in /usr/local/lib/python3.7/dist-packages (from tweepy>=3.7.0->konlpy) (2.23.0)\n",
            "Requirement already satisfied: oauthlib>=3.0.0 in /usr/local/lib/python3.7/dist-packages (from requests-oauthlib>=0.7.0->tweepy>=3.7.0->konlpy) (3.1.0)\n",
            "Requirement already satisfied: certifi>=2017.4.17 in /usr/local/lib/python3.7/dist-packages (from requests[socks]>=2.11.1->tweepy>=3.7.0->konlpy) (2020.12.5)\n",
            "Requirement already satisfied: chardet<4,>=3.0.2 in /usr/local/lib/python3.7/dist-packages (from requests[socks]>=2.11.1->tweepy>=3.7.0->konlpy) (3.0.4)\n",
            "Requirement already satisfied: urllib3!=1.25.0,!=1.25.1,<1.26,>=1.21.1 in /usr/local/lib/python3.7/dist-packages (from requests[socks]>=2.11.1->tweepy>=3.7.0->konlpy) (1.24.3)\n",
            "Requirement already satisfied: idna<3,>=2.5 in /usr/local/lib/python3.7/dist-packages (from requests[socks]>=2.11.1->tweepy>=3.7.0->konlpy) (2.10)\n",
            "Requirement already satisfied: PySocks!=1.5.7,>=1.5.6; extra == \"socks\" in /usr/local/lib/python3.7/dist-packages (from requests[socks]>=2.11.1->tweepy>=3.7.0->konlpy) (1.7.1)\n",
            "Installing collected packages: JPype1, colorama, beautifulsoup4, konlpy\n",
            "  Found existing installation: beautifulsoup4 4.6.3\n",
            "    Uninstalling beautifulsoup4-4.6.3:\n",
            "      Successfully uninstalled beautifulsoup4-4.6.3\n",
            "Successfully installed JPype1-1.2.1 beautifulsoup4-4.6.0 colorama-0.4.4 konlpy-0.5.2\n"
          ],
          "name": "stdout"
        }
      ]
    },
    {
      "cell_type": "code",
      "metadata": {
        "colab": {
          "base_uri": "https://localhost:8080/"
        },
        "id": "nrz4gfQWM27Q",
        "outputId": "73c48f40-6837-4978-c719-9f8e08552e55"
      },
      "source": [
        "from konlpy.tag import Okt\n",
        "import nltk\n",
        "\n",
        "\n",
        "#nltk 를 통한 전처리\n",
        "text = nltk.Text(adj, name='NMSC')\n",
        "\n",
        "#토큰개수\n",
        "print(len(text.tokens))\n",
        "\n",
        "#중복을 제외한 토큰개수\n",
        "print(len(set(text.tokens)))\n",
        "\n",
        "#출력빈도가 높은 상위 토큰 10개\n",
        "print(text.vocab().most_common(100))"
      ],
      "execution_count": null,
      "outputs": [
        {
          "output_type": "stream",
          "text": [
            "779462\n",
            "830\n",
            "[('같다/Adjective', 68508), ('있다/Adjective', 67602), ('친절하다/Adjective', 51355), ('좋다/Adjective', 51110), ('없다/Adjective', 44874), ('아니다/Adjective', 27161), ('그렇다/Adjective', 25083), ('많다/Adjective', 23958), ('원하다/Adjective', 15469), ('만족하다/Adjective', 13311), ('이다/Adjective', 12325), ('자연스럽다/Adjective', 11874), ('괜찮다/Adjective', 10660), ('어떻다/Adjective', 9531), ('안되다/Adjective', 9496), ('자세하다/Adjective', 9294), ('유명하다/Adjective', 8665), ('굉장하다/Adjective', 8439), ('꼼꼼하다/Adjective', 8287), ('아쉽다/Adjective', 7931), ('비싸다/Adjective', 7342), ('예쁘다/Adjective', 7154), ('솔직하다/Adjective', 6178), ('높다/Adjective', 6091), ('다르다/Adjective', 5944), ('바쁘다/Adjective', 5369), ('길다/Adjective', 5276), ('확실하다/Adjective', 5274), ('나쁘다/Adjective', 5193), ('심하다/Adjective', 5157), ('짧다/Adjective', 4922), ('필요하다/Adjective', 4808), ('이쁘다/Adjective', 4713), ('만족스럽다/Adjective', 4602), ('아프다/Adjective', 4539), ('이렇다/Adjective', 4456), ('깔끔하다/Adjective', 4242), ('가능하다/Adjective', 4227), ('궁금하다/Adjective', 4050), ('계시다/Adjective', 4034), ('화려하다/Adjective', 3833), ('불친절하다/Adjective', 3815), ('힘들다/Adjective', 3655), ('저렴하다/Adjective', 3500), ('불편하다/Adjective', 3178), ('망하다/Adjective', 3098), ('어렵다/Adjective', 2869), ('무섭다/Adjective', 2695), ('편하다/Adjective', 2618), ('정확하다/Adjective', 2595), ('작다/Adjective', 2508), ('딱하다/Adjective', 2365), ('야하다/Adjective', 2348), ('비슷하다/Adjective', 2335), ('밉다/Adjective', 2274), ('중요하다/Adjective', 2219), ('드라마틱하다/Adjective', 2143), ('스럽다/Adjective', 2116), ('낮다/Adjective', 2072), ('얇다/Adjective', 1990), ('싫다/Adjective', 1969), ('간단하다/Adjective', 1958), ('불안하다/Adjective', 1950), ('안좋다/Adjective', 1940), ('필요없다/Adjective', 1905), ('기대하다/Adjective', 1811), ('귀찮다/Adjective', 1795), ('쎄다/Adjective', 1774), ('오래되다/Adjective', 1695), ('당연하다/Adjective', 1685), ('급하다/Adjective', 1603), ('강하다/Adjective', 1590), ('착하다/Adjective', 1572), ('좋아하다/Adjective', 1556), ('안전하다/Adjective', 1543), ('빠르다/Adjective', 1509), ('인하다/Adjective', 1499), ('깊다/Adjective', 1478), ('충분하다/Adjective', 1447), ('이상하다/Adjective', 1428), ('불필요하다/Adjective', 1378), ('적당하다/Adjective', 1378), ('두껍다/Adjective', 1377), ('넘치다/Adjective', 1361), ('똑같다/Adjective', 1356), ('차분하다/Adjective', 1338), ('넓다/Adjective', 1304), ('깨끗하다/Adjective', 1289), ('아깝다/Adjective', 1253), ('신중하다/Adjective', 1169), ('덥다/Adjective', 1148), ('부족하다/Adjective', 1146), ('유일하다/Adjective', 1110), ('딱딱하다/Adjective', 1085), ('피곤하다/Adjective', 1067), ('편안하다/Adjective', 1038), ('부담스럽다/Adjective', 979), ('가깝다/Adjective', 934), ('신기하다/Adjective', 928), ('변하다/Adjective', 894)]\n"
          ],
          "name": "stdout"
        }
      ]
    },
    {
      "cell_type": "code",
      "metadata": {
        "id": "o-11wT5AQbgG"
      },
      "source": [
        "dupADJ = set(text.tokens)\n",
        "\n",
        "#new_docs 저장\n",
        "df = pd.DataFrame(dupADJ) \n",
        "    \n",
        "# saving the dataframe \n",
        "df.to_csv('adj.csv', encoding='utf-8-sig')  \n",
        "\n"
      ],
      "execution_count": null,
      "outputs": []
    },
    {
      "cell_type": "markdown",
      "metadata": {
        "id": "bj6t28A-38sq"
      },
      "source": [
        ""
      ]
    }
  ]
}